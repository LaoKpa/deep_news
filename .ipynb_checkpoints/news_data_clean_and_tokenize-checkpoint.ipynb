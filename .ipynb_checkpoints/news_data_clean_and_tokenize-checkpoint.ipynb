{
 "cells": [
  {
   "cell_type": "markdown",
   "metadata": {},
   "source": [
    "# Preparing News Data for Modeling\n",
    "\n",
    "In order to utilize our news data, we need to ensure that each article is fit on usable financial data. This means that we need to match articles that came out on the weekend to monday's financial news data. Furthermore, for news that occured after hours, we need to round to the next day. Finally, we must tokenize and clean our news data using keras preprocessing techniques. We will combine title and text and fit a tokenizer that keeps the top 20,000 words in the aggregate vocabulary. Then, we will save the tokenizer and our fit combined_text data. "
   ]
  },
  {
   "cell_type": "code",
   "execution_count": 1,
   "metadata": {},
   "outputs": [
    {
     "name": "stderr",
     "output_type": "stream",
     "text": [
      "Using TensorFlow backend.\n"
     ]
    }
   ],
   "source": [
    "import os\n",
    "import numpy as np\n",
    "import pandas as pd\n",
    "import matplotlib.pyplot as plt\n",
    "import alpaca_trade_api as tradeapi\n",
    "import datetime\n",
    "import seaborn as sns\n",
    "from gensim.models import Word2Vec\n",
    "from nltk import word_tokenize\n",
    "from keras.preprocessing.sequence import pad_sequences\n",
    "from keras.layers import Input, Dense, LSTM, Embedding\n",
    "from keras.layers import Dropout, Activation, Bidirectional, GlobalMaxPool1D\n",
    "from keras.models import Model\n",
    "from keras import initializers, regularizers, constraints, optimizers, layers\n",
    "from keras.preprocessing import text, sequence\n",
    "from keras.optimizers import SGD\n",
    "np.random.seed(0)\n",
    "\n",
    "api = tradeapi.REST(\n",
    "    base_url=os.environ['APCA_API_BASE_URL'],\n",
    "    key_id=os.environ['APCA_API_KEY_ID'],\n",
    "    secret_key=os.environ['APCA_API_SECRET_KEY']\n",
    ")"
   ]
  },
  {
   "cell_type": "code",
   "execution_count": 6,
   "metadata": {},
   "outputs": [],
   "source": [
    "def get_df():\n",
    "    # Get financial news data\n",
    "    # Sources: bloomberg, cnbc, reuters, wsj, fortune, ... (financial news sources)\n",
    "    df = pd.read_csv('data/news_data.csv', index_col=0, parse_dates=True)\n",
    "    # Round to nearest day - news beyond trading hours is not usable for that day\n",
    "    # Only utilizing morning news in real trading\n",
    "    df.index = pd.to_datetime(df.index, utc=True).round('D').date\n",
    "    df.reset_index(inplace=True)\n",
    "    df['index'] = pd.to_datetime(df['index'])\n",
    "    # Set weekend news to be read on monday (market closed on weekend)\n",
    "    df.loc[df['index'].dt.weekday == 5, ['index']] = df.loc[df['index'].dt.weekday == 5, ['index']] + datetime.timedelta(days=2)\n",
    "    df.loc[df['index'].dt.weekday == 6, ['index']] = df.loc[df['index'].dt.weekday == 6, ['index']] + datetime.timedelta(days=1)\n",
    "    df.set_index('index', inplace=True)\n",
    "    return df"
   ]
  },
  {
   "cell_type": "code",
   "execution_count": 7,
   "metadata": {},
   "outputs": [],
   "source": [
    "df = get_df()"
   ]
  },
  {
   "cell_type": "code",
   "execution_count": 8,
   "metadata": {},
   "outputs": [
    {
     "data": {
      "text/html": [
       "<div>\n",
       "<style scoped>\n",
       "    .dataframe tbody tr th:only-of-type {\n",
       "        vertical-align: middle;\n",
       "    }\n",
       "\n",
       "    .dataframe tbody tr th {\n",
       "        vertical-align: top;\n",
       "    }\n",
       "\n",
       "    .dataframe thead th {\n",
       "        text-align: right;\n",
       "    }\n",
       "</style>\n",
       "<table border=\"1\" class=\"dataframe\">\n",
       "  <thead>\n",
       "    <tr style=\"text-align: right;\">\n",
       "      <th></th>\n",
       "      <th>title</th>\n",
       "      <th>text</th>\n",
       "    </tr>\n",
       "    <tr>\n",
       "      <th>index</th>\n",
       "      <th></th>\n",
       "      <th></th>\n",
       "    </tr>\n",
       "  </thead>\n",
       "  <tbody>\n",
       "    <tr>\n",
       "      <th>2017-12-08</th>\n",
       "      <td>Mexican official disputes reports of tainted a...</td>\n",
       "      <td>Mexico's secretary of tourism disputed reports...</td>\n",
       "    </tr>\n",
       "    <tr>\n",
       "      <th>2017-12-08</th>\n",
       "      <td>Saudi prince has history of extravagant impuls...</td>\n",
       "      <td>Timothy A. Clary | AFP | Getty Images Christie...</td>\n",
       "    </tr>\n",
       "    <tr>\n",
       "      <th>2017-12-11</th>\n",
       "      <td>Risks From The WTOâ€™s New Power Vacuum</td>\n",
       "      <td>WASHINGTONâ€”The world trading system confront...</td>\n",
       "    </tr>\n",
       "    <tr>\n",
       "      <th>2017-12-14</th>\n",
       "      <td>Winners and Losers of the GOP Tax Bill</td>\n",
       "      <td>Christmas may be over but WSJâ€™s Richard Rubi...</td>\n",
       "    </tr>\n",
       "    <tr>\n",
       "      <th>2017-12-15</th>\n",
       "      <td>WSJ. Magazineâ€™s 10 Most-Read Stories of the ...</td>\n",
       "      <td>1. How Jony Ive Masterminded Appleâ€™s New Hea...</td>\n",
       "    </tr>\n",
       "  </tbody>\n",
       "</table>\n",
       "</div>"
      ],
      "text/plain": [
       "                                                        title  \\\n",
       "index                                                           \n",
       "2017-12-08  Mexican official disputes reports of tainted a...   \n",
       "2017-12-08  Saudi prince has history of extravagant impuls...   \n",
       "2017-12-11            Risks From The WTOâ€™s New Power Vacuum   \n",
       "2017-12-14             Winners and Losers of the GOP Tax Bill   \n",
       "2017-12-15  WSJ. Magazineâ€™s 10 Most-Read Stories of the ...   \n",
       "\n",
       "                                                         text  \n",
       "index                                                          \n",
       "2017-12-08  Mexico's secretary of tourism disputed reports...  \n",
       "2017-12-08  Timothy A. Clary | AFP | Getty Images Christie...  \n",
       "2017-12-11  WASHINGTONâ€”The world trading system confront...  \n",
       "2017-12-14  Christmas may be over but WSJâ€™s Richard Rubi...  \n",
       "2017-12-15  1. How Jony Ive Masterminded Appleâ€™s New Hea...  "
      ]
     },
     "execution_count": 8,
     "metadata": {},
     "output_type": "execute_result"
    }
   ],
   "source": [
    "df.head()"
   ]
  },
  {
   "cell_type": "code",
   "execution_count": 9,
   "metadata": {},
   "outputs": [
    {
     "data": {
      "text/html": [
       "<div>\n",
       "<style scoped>\n",
       "    .dataframe tbody tr th:only-of-type {\n",
       "        vertical-align: middle;\n",
       "    }\n",
       "\n",
       "    .dataframe tbody tr th {\n",
       "        vertical-align: top;\n",
       "    }\n",
       "\n",
       "    .dataframe thead th {\n",
       "        text-align: right;\n",
       "    }\n",
       "</style>\n",
       "<table border=\"1\" class=\"dataframe\">\n",
       "  <thead>\n",
       "    <tr style=\"text-align: right;\">\n",
       "      <th></th>\n",
       "      <th>title</th>\n",
       "      <th>text</th>\n",
       "    </tr>\n",
       "    <tr>\n",
       "      <th>index</th>\n",
       "      <th></th>\n",
       "      <th></th>\n",
       "    </tr>\n",
       "  </thead>\n",
       "  <tbody>\n",
       "    <tr>\n",
       "      <th>2019-06-03</th>\n",
       "      <td>Ankr Network Price Tops $0.0077 on Major Excha...</td>\n",
       "      <td>Ankr Network Price Tops $0.0077 on Major Excha...</td>\n",
       "    </tr>\n",
       "    <tr>\n",
       "      <th>2019-06-03</th>\n",
       "      <td>42-coin Price Reaches $19,937.09 on Major Exch...</td>\n",
       "      <td>42-coin Price Reaches $19,937.09 on Major Exch...</td>\n",
       "    </tr>\n",
       "    <tr>\n",
       "      <th>2019-06-03</th>\n",
       "      <td>Photon Price Hits $0.0000 on Top Exchanges (PHO)</td>\n",
       "      <td>Photon Price Hits $0.0000 on Top Exchanges (PH...</td>\n",
       "    </tr>\n",
       "    <tr>\n",
       "      <th>2019-06-03</th>\n",
       "      <td>Mao Zedong Trading 3.8% Higher Over Last Week ...</td>\n",
       "      <td>Mao Zedong Trading 3.8% Higher Over Last Week ...</td>\n",
       "    </tr>\n",
       "    <tr>\n",
       "      <th>2019-06-03</th>\n",
       "      <td>Nexty Trading 1% Higher Over Last 7 Days (NTY)</td>\n",
       "      <td>Nexty Trading 1% Higher Over Last 7 Days (NTY)...</td>\n",
       "    </tr>\n",
       "  </tbody>\n",
       "</table>\n",
       "</div>"
      ],
      "text/plain": [
       "                                                        title  \\\n",
       "index                                                           \n",
       "2019-06-03  Ankr Network Price Tops $0.0077 on Major Excha...   \n",
       "2019-06-03  42-coin Price Reaches $19,937.09 on Major Exch...   \n",
       "2019-06-03   Photon Price Hits $0.0000 on Top Exchanges (PHO)   \n",
       "2019-06-03  Mao Zedong Trading 3.8% Higher Over Last Week ...   \n",
       "2019-06-03     Nexty Trading 1% Higher Over Last 7 Days (NTY)   \n",
       "\n",
       "                                                         text  \n",
       "index                                                          \n",
       "2019-06-03  Ankr Network Price Tops $0.0077 on Major Excha...  \n",
       "2019-06-03  42-coin Price Reaches $19,937.09 on Major Exch...  \n",
       "2019-06-03  Photon Price Hits $0.0000 on Top Exchanges (PH...  \n",
       "2019-06-03  Mao Zedong Trading 3.8% Higher Over Last Week ...  \n",
       "2019-06-03  Nexty Trading 1% Higher Over Last 7 Days (NTY)...  "
      ]
     },
     "execution_count": 9,
     "metadata": {},
     "output_type": "execute_result"
    }
   ],
   "source": [
    "df.tail()"
   ]
  },
  {
   "cell_type": "code",
   "execution_count": 10,
   "metadata": {},
   "outputs": [
    {
     "name": "stdout",
     "output_type": "stream",
     "text": [
      "<class 'pandas.core.frame.DataFrame'>\n",
      "DatetimeIndex: 615632 entries, 2017-12-08 to 2019-06-03\n",
      "Data columns (total 2 columns):\n",
      "title    615624 non-null object\n",
      "text     615631 non-null object\n",
      "dtypes: object(2)\n",
      "memory usage: 14.1+ MB\n"
     ]
    }
   ],
   "source": [
    "df.info()"
   ]
  },
  {
   "cell_type": "code",
   "execution_count": 17,
   "metadata": {},
   "outputs": [],
   "source": [
    "# Combine title and text\n",
    "def get_combined_text(df):\n",
    "    return (df['title'] + ' ' + full_df['text']).astype(str)"
   ]
  },
  {
   "cell_type": "code",
   "execution_count": 18,
   "metadata": {},
   "outputs": [],
   "source": [
    "X = get_combined_text(df)"
   ]
  },
  {
   "cell_type": "code",
   "execution_count": 25,
   "metadata": {},
   "outputs": [],
   "source": [
    "# Tokenize top 20,000 words\n",
    "tokenizer = text.Tokenizer(num_words=20000)\n",
    "# Fit on news articles\n",
    "tokenizer.fit_on_texts(list(X))"
   ]
  },
  {
   "cell_type": "code",
   "execution_count": 26,
   "metadata": {},
   "outputs": [],
   "source": [
    "import pickle\n",
    "\n",
    "# Save tokenizer\n",
    "with open('models/tokenizer.pickle', 'wb') as handle:\n",
    "    pickle.dump(tokenizer, handle, protocol=pickle.HIGHEST_PROTOCOL)"
   ]
  },
  {
   "cell_type": "code",
   "execution_count": 21,
   "metadata": {},
   "outputs": [],
   "source": [
    "# Save data\n",
    "X.to_csv('data/text_data.csv')"
   ]
  }
 ],
 "metadata": {
  "kernelspec": {
   "display_name": "Python 3",
   "language": "python",
   "name": "python3"
  },
  "language_info": {
   "codemirror_mode": {
    "name": "ipython",
    "version": 3
   },
   "file_extension": ".py",
   "mimetype": "text/x-python",
   "name": "python",
   "nbconvert_exporter": "python",
   "pygments_lexer": "ipython3",
   "version": "3.7.3"
  }
 },
 "nbformat": 4,
 "nbformat_minor": 2
}
