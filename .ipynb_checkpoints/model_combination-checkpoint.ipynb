{
 "cells": [
  {
   "cell_type": "markdown",
   "metadata": {},
   "source": [
    "# Putting it all together\n",
    "\n",
    "So far, we have cleaned and extracted our relevant news data, ticker data, and have researched our target variable, which in this case is higher than average volatility and volume. Our goal is to combine the model that uses text data with the model that uses tick data. The problem with attempting to do this in a single Keras model is that each data set has very different make up and timeframes. The text data only goes back to 2017, but has up to hundreds of news articles on a given day. The tick data goes back to 2013, but only has single entries per trading day. \n",
    "\n",
    "We hypothesize that both morning tick data and news data will be useful in predicting whether or not a given ETF will have higher than average volatility and volume. Therefore, we will fit models independently using a deep learning RNN framework (this is to capture the temporal nature of the data) and unite the probability predictions using a random forest model. This seems very complex, perhaps even overly so, but considering how difficult it is to predict anything to do with financial markets, we want to throw as much compute power at this problem as possible! Furthermore, deep learning is a framework that is beginning to but has not yet fully become integrated in trading, so this project hopes to analyze the success of this particular use case of the greatest algorithmic advancement of the 21st century (in terms of ease of use and computer power: Neural nets were first invented in the 1950s)."
   ]
  },
  {
   "cell_type": "code",
   "execution_count": 1,
   "metadata": {
    "scrolled": true
   },
   "outputs": [
    {
     "name": "stderr",
     "output_type": "stream",
     "text": [
      "Using TensorFlow backend.\n"
     ]
    }
   ],
   "source": [
    "# Load packages\n",
    "import os\n",
    "import numpy as np\n",
    "import pickle\n",
    "import pandas as pd\n",
    "import matplotlib.pyplot as plt\n",
    "import alpaca_trade_api as tradeapi\n",
    "import datetime\n",
    "import seaborn as sns\n",
    "from gensim.models import Word2Vec\n",
    "from nltk import word_tokenize\n",
    "from keras.preprocessing.sequence import pad_sequences\n",
    "from keras.layers import Input, Dense, LSTM, CuDNNLSTM, Embedding, Conv2D\n",
    "from keras.layers import Dropout, Activation, Bidirectional, GlobalMaxPool1D\n",
    "from keras.models import Model, clone_model\n",
    "from keras.callbacks import EarlyStopping\n",
    "from keras import initializers, regularizers, constraints, optimizers, layers\n",
    "from keras.preprocessing import text, sequence\n",
    "from keras.optimizers import SGD\n",
    "from keras import backend as K\n",
    "from sklearn.utils import class_weight\n",
    "from sklearn.pipeline import make_pipeline\n",
    "from sklearn.preprocessing import MinMaxScaler, StandardScaler, Imputer\n",
    "from sklearn.model_selection import train_test_split, KFold\n",
    "from sklearn.ensemble import RandomForestClassifier\n",
    "from sklearn.linear_model import LogisticRegression\n",
    "from sklearn.svm import SVC\n",
    "from sklearn.tree import DecisionTreeClassifier\n",
    "from sklearn.metrics import accuracy_score\n",
    "from sklearn.neighbors import KNeighborsClassifier\n",
    "from sklearn.model_selection import GridSearchCV, RandomizedSearchCV, cross_val_score, cross_val_predict\n",
    "from sklearn.pipeline import Pipeline\n",
    "from imblearn.over_sampling import SMOTE\n",
    "np.random.seed(0)\n",
    "\n",
    "api = tradeapi.REST(\n",
    "    base_url=os.environ['APCA_API_BASE_URL'],\n",
    "    key_id=os.environ['APCA_API_KEY_ID'],\n",
    "    secret_key=os.environ['APCA_API_SECRET_KEY']\n",
    ")"
   ]
  },
  {
   "cell_type": "markdown",
   "metadata": {},
   "source": [
    "We will use a class based model in order to capture all of the various moving parts. By saving each independent model, we can easily access them later in case we need to use them. The ultimate goal here is to fit models at the end of each trading week, compare the performance of the old versus the new model, and keep the one which performs best. This CombinedModel class will not only be able to fit new models, but will be able to evaluate the performance of each model independently."
   ]
  },
  {
   "cell_type": "code",
   "execution_count": 2,
   "metadata": {
    "scrolled": false
   },
   "outputs": [],
   "source": [
    "class CombinedModel():\n",
    "\n",
    "    def __init__(self, target='data/vv_target.csv'):\n",
    "        \"\"\" Initializes by getting each dataset. \"\"\"\n",
    "        # Load each csv\n",
    "        self.text = pd.read_csv('data/tokenized_text.csv', index_col=0)\n",
    "        self.tick = pd.read_csv('data/wrapped_tick_data.csv', index_col=0)\n",
    "        self.target= pd.read_csv(target, index_col=0)\n",
    "        \n",
    "        # Get models\n",
    "        self.example_models = self.get_example_models()\n",
    "        self.models = {'text': [], 'tick': []}\n",
    "        \n",
    "        # Get X, y train test split\n",
    "        self.datasets = {}\n",
    "        self.datasets['text'] = self.get_X_y(self.text, self.target)\n",
    "        self.datasets['tick'] = self.get_X_y(self.tick, self.target)\n",
    "        \n",
    "        # Symbols\n",
    "        self.symbols = [\n",
    "            'DBC',\n",
    "            'EEM',\n",
    "            'EWJ',\n",
    "            'FXI',\n",
    "            'GDX',\n",
    "            'GLD',\n",
    "            'QQQ',\n",
    "            'SPY',\n",
    "            'TLT',\n",
    "            'USO',\n",
    "            'VTI',\n",
    "            'VXX',\n",
    "            'XHB',\n",
    "            'XLF',\n",
    "            'XRT',\n",
    "            'XSW'\n",
    "        ]\n",
    "\n",
    "    def get_X_y(self, X, y, cutoff='2019-05-20'):\n",
    "        \"\"\" Gets X and y based on join. Drops NA values. \"\"\"\n",
    "        total_df = X.join(y, how='left', lsuffix='l', rsuffix='r').dropna()\n",
    "        symbols = list(y.columns)\n",
    "        X, y = total_df[[c for c in total_df.columns if c not in symbols]], total_df[symbols]\n",
    "        X_train, X_test = X.loc[:cutoff], X.loc[cutoff:]\n",
    "        y_train, y_test = y.loc[:cutoff], y.loc[cutoff:]\n",
    "        # Convert to binary\n",
    "        y_train = y_train.astype('int64')\n",
    "        y_test = y_test.astype('int64')\n",
    "        return X_train, X_test, y_train, y_test\n",
    "        \n",
    "    def get_example_models(self):\n",
    "        \"\"\" Gets text and ticker models according to appropriate parameters\"\"\"\n",
    "        # Save models\n",
    "        models = {}\n",
    "        \n",
    "        # Text Model\n",
    "        embedding_size = 200\n",
    "        input_ = Input(shape=(100,))\n",
    "        x = Embedding(20000, embedding_size)(input_)\n",
    "        x = CuDNNLSTM(50, return_sequences=True)(x)\n",
    "        x = GlobalMaxPool1D()(x)\n",
    "        x = Dropout(0.5)(x)\n",
    "        x = Dense(200, activation='relu')(x)\n",
    "        x = Dropout(0.5)(x)\n",
    "        x = Dense(100, activation='relu')(x)\n",
    "        x = Dropout(0.5)(x)\n",
    "        x = Dense(16, activation='sigmoid')(x)\n",
    "        model = Model(inputs=input_, outputs=x)\n",
    "        # Choose Multilabel\n",
    "        model.compile(loss='binary_crossentropy',\n",
    "                      optimizer='adam', \n",
    "                      metrics=['accuracy'])\n",
    "        models['text'] = model\n",
    "\n",
    "        # Ticker Model\n",
    "        input_ = Input(shape=(121, 80))\n",
    "        x = CuDNNLSTM(40, return_sequences=True)(input_)\n",
    "        x = GlobalMaxPool1D()(x)\n",
    "        x = Dense(100, activation='relu')(x)\n",
    "        x = Dropout(0.2)(x)\n",
    "        x = Dense(50, activation='relu')(x)\n",
    "        x = Dropout(0.2)(x)\n",
    "        x = Dense(16, activation='sigmoid')(x)\n",
    "        model = Model(inputs=input_, outputs=x)\n",
    "        # Choose Multilabel\n",
    "        model.compile(loss='binary_crossentropy',\n",
    "                      optimizer='adam', \n",
    "                      metrics=['accuracy'])\n",
    "        models['tick'] = model\n",
    "\n",
    "        return models\n",
    "\n",
    "    def get_oof(self, clf, data, key, NFOLDS=10, epochs=1, batch_size=256):\n",
    "        \"\"\" Get's out of fold predictions for a classifier. \n",
    "            Credit: https://www.kaggle.com/arthurtok/introduction-to-ensembling-stacking-in-python\n",
    "            Slightly modified to handle sklearn 0.20.3\n",
    "        \"\"\"\n",
    "        # Get train test split\n",
    "        x_train, x_test, y_train, y_test = data[key]\n",
    "        cols, train_idx, test_idx = (y_train.columns, \n",
    "                                     pd.to_datetime(y_train.index, utc=True).tz_convert('US/Eastern'), \n",
    "                                     pd.to_datetime(y_test.index, utc=True).tz_convert('US/Eastern') \n",
    "                                    )\n",
    "\n",
    "        # Get values for KFold compatibility\n",
    "        y_train = y_train.values\n",
    "        y_test = y_test.values\n",
    "        if key == 'tick':\n",
    "            x_train = x_train.values.reshape(x_train.shape[0], 121, 80)\n",
    "            x_test = x_test.values.reshape(x_test.shape[0], 121, 80)\n",
    "        else:\n",
    "            x_train = x_train.values\n",
    "            x_test = x_test.values\n",
    "\n",
    "        # Some useful parameters which will come in handy later on\n",
    "        ntrain_x, ntrain_y = x_train.shape[0], y_train.shape[1]\n",
    "        ntest_x, ntest_y = x_test.shape[0], y_test.shape[1]\n",
    "        SEED = 0 # for reproducibility\n",
    "        kf = KFold(n_splits=NFOLDS, random_state=SEED)\n",
    "        oof_train = np.zeros((ntrain_x, ntrain_y))\n",
    "        oof_test = np.zeros((ntest_x, ntest_y))\n",
    "        oof_test_skf = np.empty((NFOLDS, ntest_x, ntest_y))\n",
    "        \n",
    "        for i, (train_index, test_index) in enumerate(kf.split(x_train)):\n",
    "            print(f\"Fitting Fold {i}\")\n",
    "            x_tr = x_train[train_index]\n",
    "            y_tr = y_train[train_index]\n",
    "            x_te = x_train[test_index]\n",
    "            y_te = y_train[test_index]\n",
    "\n",
    "            # Recompile to start from scratch\n",
    "            curr_clf = clone_model(clf)\n",
    "            np.random.seed(0)\n",
    "            curr_clf.compile(loss='binary_crossentropy',\n",
    "                  optimizer='adam', \n",
    "                  metrics=['accuracy'])\n",
    "            earlyStopping = EarlyStopping(monitor='val_loss', patience=10, verbose=0, mode='min')\n",
    "            curr_clf.fit(x_tr, y_tr, epochs=epochs, batch_size=batch_size, validation_data=(x_te, y_te),\n",
    "                         callbacks=[earlyStopping])\n",
    "            self.models[key].append(curr_clf)\n",
    "\n",
    "            # Use predict and get confidence of model predicting 1 = 'Yes'\n",
    "            oof_train[test_index, :] = curr_clf.predict(x_te) \n",
    "            # For test set, we use each of the 5 folds\n",
    "            oof_test_skf[i, :] = curr_clf.predict(x_test)\n",
    "\n",
    "        # and average predictions\n",
    "        oof_test[:] = oof_test_skf.mean(axis=0)\n",
    "        oof_train = pd.DataFrame(oof_train, columns=cols, index=train_idx).groupby(pd.Grouper(freq='D')).mean().dropna()\n",
    "        oof_test = pd.DataFrame(oof_test, columns=cols, index=test_idx).groupby(pd.Grouper(freq='D')).mean().dropna()\n",
    "        return oof_train, oof_test\n",
    "\n",
    "\n",
    "    def build_pred_data(self):\n",
    "        \"\"\" Get's oof predictions for every classifier in a dictionary of models. \"\"\"\n",
    "        X_train_f, X_test_f = {}, {}\n",
    "        clf_dict = self.example_models\n",
    "        data = self.datasets\n",
    "        # Columns will be model predictions \n",
    "        # labeled according to model\n",
    "        for key, clf in clf_dict.items():\n",
    "            if key == \"tick\":\n",
    "                X_train_f[key], X_test_f[key] = self.get_oof(clf, data, key, epochs=15, batch_size=16)\n",
    "            else:\n",
    "                X_train_f[key], X_test_f[key] = self.get_oof(clf, data, key)\n",
    "\n",
    "        # Lastly, MinMax Scale to avoid bias\n",
    "        pipe = make_pipeline(\n",
    "            Imputer(),\n",
    "            #MinMaxScaler()\n",
    "        )\n",
    "        X_train_f = X_train_f['text'].join(X_train_f['tick'], how='left', lsuffix='text', rsuffix='tick')\n",
    "        X_test_f = X_test_f['text'].join(X_test_f['tick'], how='left', lsuffix='text', rsuffix='tick')\n",
    "        \n",
    "        # Convert to DataFrames\n",
    "        self.target.index = pd.to_datetime(self.target.index, utc=True).tz_convert('US/Eastern') \n",
    "        X_train_f = pd.DataFrame(pipe.fit_transform(X_train_f), columns=X_train_f.columns, index=X_train_f.index).drop_duplicates()\n",
    "        y_train = self.target.join(X_train_f, how='right')[self.target.columns]\n",
    "        X_test_f = pd.DataFrame(pipe.transform(X_test_f), columns=X_test_f.columns, index=X_test_f.index).drop_duplicates()\n",
    "        y_test = self.target.join(X_test_f, how='right')[self.target.columns]\n",
    "        self.datasets['final'] = [X_train_f, X_test_f, y_train, y_test]\n",
    "        return X_train_f, X_test_f, y_train, y_test\n",
    "    \n",
    "    def model_search(self):\n",
    "        \"\"\" Stacks text and tick data deep learning predictions. \n",
    "            Conducts random grid search to optimize parameters for stacked random forest. \"\"\"\n",
    "        if 'final' not in self.datasets:\n",
    "            X_train, X_test, y_train, y_test = self.build_pred_data()\n",
    "        else:\n",
    "            X_train, X_test, y_train, y_test = self.datasets['final']\n",
    "        param_grid = {\n",
    "            'clf__bootstrap': [True],\n",
    "            'clf__max_depth': range(2, 6),\n",
    "            'clf__max_features': range(2, 6),\n",
    "            'clf__min_samples_leaf': range(3, 7),\n",
    "            'clf__min_samples_split': range(6, 14),\n",
    "            'clf__n_estimators': range(6, 14)\n",
    "        }\n",
    "        \n",
    "        # Store each model\n",
    "        models = {}\n",
    "        # each out of sample training prediction\n",
    "        y_train_df = {}\n",
    "        # each test prediction\n",
    "        y_test_df = {}\n",
    "        \n",
    "        for symbol in self.symbols:\n",
    "            # Create a base model\n",
    "            clf = RandomForestClassifier()\n",
    "            steps = [('scaler', StandardScaler()), ('clf', clf)]\n",
    "            pipe = Pipeline(steps)\n",
    "            # Instantiate the grid search model\n",
    "            grid_search = RandomizedSearchCV(estimator=pipe, n_iter=50, param_distributions=param_grid, \n",
    "                                             cv=10, n_jobs=4, verbose=2, scoring='accuracy')\n",
    "            # Upsample to have even distribution\n",
    "            resample = SMOTE()\n",
    "            X_train_r, y_train_r = resample.fit_resample(X_train, y_train[symbol])\n",
    "            grid_search.fit(X_train_r, y_train_r)\n",
    "            \n",
    "            # Get train and test predictions\n",
    "            y_train_pred = cross_val_predict(grid_search.best_estimator_, X_train, y_train[symbol], cv=10)\n",
    "            y_train_df[symbol] = pd.DataFrame(y_train_pred, index=y_train.index, columns=[symbol])\n",
    "            y_test_pred = grid_search.predict(X_test)\n",
    "            y_test_df[symbol] = pd.DataFrame(y_test_pred, index=y_test.index, columns=[symbol])\n",
    "            \n",
    "            # Print statistics\n",
    "            print(f'Metrics for {symbol}')\n",
    "            print('CV Score ', cross_val_score(grid_search.best_estimator_, X_train, y_train[symbol], cv=10).mean())\n",
    "            print('Test score ', accuracy_score(y_test[symbol], y_test_pred))\n",
    "            models[symbol] = grid_search.best_estimator_\n",
    "        self.models['combined'] = models\n",
    "        y_train_df = pd.concat(y_train_df.values(), axis=1)\n",
    "        y_test_df = pd.concat(y_test_df.values(), axis=1)\n",
    "        return y_train_df, y_test_df, models"
   ]
  },
  {
   "cell_type": "markdown",
   "metadata": {},
   "source": [
    "First we will instantiate a CombinedModel instance. This will load our necessary csv files and prepare the parameters that we will need for later storage."
   ]
  },
  {
   "cell_type": "code",
   "execution_count": 3,
   "metadata": {},
   "outputs": [
    {
     "name": "stdout",
     "output_type": "stream",
     "text": [
      "WARNING:tensorflow:From C:\\Users\\rcapu\\Anaconda3\\lib\\site-packages\\tensorflow\\python\\framework\\op_def_library.py:263: colocate_with (from tensorflow.python.framework.ops) is deprecated and will be removed in a future version.\n",
      "Instructions for updating:\n",
      "Colocations handled automatically by placer.\n",
      "WARNING:tensorflow:From C:\\Users\\rcapu\\Anaconda3\\lib\\site-packages\\keras\\backend\\tensorflow_backend.py:3445: calling dropout (from tensorflow.python.ops.nn_ops) with keep_prob is deprecated and will be removed in a future version.\n",
      "Instructions for updating:\n",
      "Please use `rate` instead of `keep_prob`. Rate should be set to `rate = 1 - keep_prob`.\n"
     ]
    }
   ],
   "source": [
    "model = CombinedModel()"
   ]
  },
  {
   "cell_type": "markdown",
   "metadata": {},
   "source": [
    "build_pred_data generates out-of-fold predictions for each entry in our text and tick data. By doing this, we avoid leakage into our final combined model. Although we suffer a little bit of lookahead bias (i.e., certain folds are fit on future data), we can assume that our model trades a small enough time horizon that we treat each day as mostly independent."
   ]
  },
  {
   "cell_type": "code",
   "execution_count": 4,
   "metadata": {},
   "outputs": [
    {
     "name": "stdout",
     "output_type": "stream",
     "text": [
      "Fitting Fold 0\n",
      "WARNING:tensorflow:From C:\\Users\\rcapu\\Anaconda3\\lib\\site-packages\\tensorflow\\python\\ops\\math_ops.py:3066: to_int32 (from tensorflow.python.ops.math_ops) is deprecated and will be removed in a future version.\n",
      "Instructions for updating:\n",
      "Use tf.cast instead.\n",
      "WARNING:tensorflow:From C:\\Users\\rcapu\\Anaconda3\\lib\\site-packages\\tensorflow\\python\\ops\\math_grad.py:102: div (from tensorflow.python.ops.math_ops) is deprecated and will be removed in a future version.\n",
      "Instructions for updating:\n",
      "Deprecated in favor of operator or tf.math.divide.\n",
      "Train on 520570 samples, validate on 57842 samples\n",
      "Epoch 1/1\n",
      "520570/520570 [==============================] - 40s 77us/step - loss: 0.5741 - acc: 0.6919 - val_loss: 0.6958 - val_acc: 0.5983\n",
      "Fitting Fold 1\n",
      "Train on 520570 samples, validate on 57842 samples\n",
      "Epoch 1/1\n",
      "520570/520570 [==============================] - 33s 63us/step - loss: 0.5847 - acc: 0.6793 - val_loss: 0.6151 - val_acc: 0.6777\n",
      "Fitting Fold 2\n",
      "Train on 520571 samples, validate on 57841 samples\n",
      "Epoch 1/1\n",
      "520571/520571 [==============================] - 33s 64us/step - loss: 0.5779 - acc: 0.6897 - val_loss: 0.6603 - val_acc: 0.6259\n",
      "Fitting Fold 3\n",
      "Train on 520571 samples, validate on 57841 samples\n",
      "Epoch 1/1\n",
      "520571/520571 [==============================] - 34s 64us/step - loss: 0.5725 - acc: 0.6960 - val_loss: 0.7279 - val_acc: 0.5655\n",
      "Fitting Fold 4\n",
      "Train on 520571 samples, validate on 57841 samples\n",
      "Epoch 1/1\n",
      "520571/520571 [==============================] - 34s 65us/step - loss: 0.5847 - acc: 0.6822 - val_loss: 0.5834 - val_acc: 0.6879\n",
      "Fitting Fold 5\n",
      "Train on 520571 samples, validate on 57841 samples\n",
      "Epoch 1/1\n",
      "520571/520571 [==============================] - 34s 65us/step - loss: 0.5853 - acc: 0.6804 - val_loss: 0.5694 - val_acc: 0.7211\n",
      "Fitting Fold 6\n",
      "Train on 520571 samples, validate on 57841 samples\n",
      "Epoch 1/1\n",
      "520571/520571 [==============================] - 34s 66us/step - loss: 0.5867 - acc: 0.6796 - val_loss: 0.5420 - val_acc: 0.7284\n",
      "Fitting Fold 7\n",
      "Train on 520571 samples, validate on 57841 samples\n",
      "Epoch 1/1\n",
      "520571/520571 [==============================] - 34s 65us/step - loss: 0.5803 - acc: 0.6876 - val_loss: 0.6026 - val_acc: 0.6610\n",
      "Fitting Fold 8\n",
      "Train on 520571 samples, validate on 57841 samples\n",
      "Epoch 1/1\n",
      "520571/520571 [==============================] - 35s 67us/step - loss: 0.5831 - acc: 0.6818 - val_loss: 0.5810 - val_acc: 0.7045\n",
      "Fitting Fold 9\n",
      "Train on 520571 samples, validate on 57841 samples\n",
      "Epoch 1/1\n",
      "520571/520571 [==============================] - 35s 66us/step - loss: 0.5802 - acc: 0.6846 - val_loss: 0.6162 - val_acc: 0.6682: \n",
      "Fitting Fold 0\n",
      "Train on 1129 samples, validate on 126 samples\n",
      "Epoch 1/15\n",
      "1129/1129 [==============================] - 2s 2ms/step - loss: 0.6930 - acc: 0.5336 - val_loss: 0.6730 - val_acc: 0.5997\n",
      "Epoch 2/15\n",
      "1129/1129 [==============================] - 1s 769us/step - loss: 0.6843 - acc: 0.5576 - val_loss: 0.6798 - val_acc: 0.5799\n",
      "Epoch 3/15\n",
      "1129/1129 [==============================] - 1s 783us/step - loss: 0.6806 - acc: 0.5638 - val_loss: 0.6677 - val_acc: 0.6329\n",
      "Epoch 4/15\n",
      "1129/1129 [==============================] - 1s 796us/step - loss: 0.6805 - acc: 0.5598 - val_loss: 0.6749 - val_acc: 0.6096\n",
      "Epoch 5/15\n",
      "1129/1129 [==============================] - 1s 772us/step - loss: 0.6793 - acc: 0.5655 - val_loss: 0.6769 - val_acc: 0.5843\n",
      "Epoch 6/15\n",
      "1129/1129 [==============================] - 1s 773us/step - loss: 0.6740 - acc: 0.5753 - val_loss: 0.6758 - val_acc: 0.5982\n",
      "Epoch 7/15\n",
      "1129/1129 [==============================] - 1s 774us/step - loss: 0.6720 - acc: 0.5756 - val_loss: 0.6773 - val_acc: 0.5997\n",
      "Epoch 8/15\n",
      "1129/1129 [==============================] - 1s 787us/step - loss: 0.6716 - acc: 0.5777 - val_loss: 0.6803 - val_acc: 0.5774\n",
      "Epoch 9/15\n",
      "1129/1129 [==============================] - 1s 764us/step - loss: 0.6693 - acc: 0.5861 - val_loss: 0.6866 - val_acc: 0.5461\n",
      "Epoch 10/15\n",
      "1129/1129 [==============================] - 1s 785us/step - loss: 0.6695 - acc: 0.5832 - val_loss: 0.6861 - val_acc: 0.5456\n",
      "Epoch 11/15\n",
      "1129/1129 [==============================] - 1s 752us/step - loss: 0.6710 - acc: 0.5838 - val_loss: 0.6851 - val_acc: 0.5546\n",
      "Epoch 12/15\n",
      "1129/1129 [==============================] - 1s 789us/step - loss: 0.6666 - acc: 0.5891 - val_loss: 0.7000 - val_acc: 0.4926\n",
      "Epoch 13/15\n",
      "1129/1129 [==============================] - 1s 764us/step - loss: 0.6680 - acc: 0.5870 - val_loss: 0.6879 - val_acc: 0.5402\n",
      "Fitting Fold 1\n",
      "Train on 1129 samples, validate on 126 samples\n",
      "Epoch 1/15\n",
      "1129/1129 [==============================] - 3s 2ms/step - loss: 0.6915 - acc: 0.5314 - val_loss: 0.6767 - val_acc: 0.5992\n",
      "Epoch 2/15\n",
      "1129/1129 [==============================] - 1s 778us/step - loss: 0.6841 - acc: 0.5502 - val_loss: 0.6769 - val_acc: 0.6002\n",
      "Epoch 3/15\n",
      "1129/1129 [==============================] - 1s 787us/step - loss: 0.6810 - acc: 0.5562 - val_loss: 0.6697 - val_acc: 0.6230\n",
      "Epoch 4/15\n",
      "1129/1129 [==============================] - 1s 792us/step - loss: 0.6806 - acc: 0.5638 - val_loss: 0.6716 - val_acc: 0.6215\n",
      "Epoch 5/15\n",
      "1129/1129 [==============================] - 1s 815us/step - loss: 0.6790 - acc: 0.5650 - val_loss: 0.6709 - val_acc: 0.6166\n",
      "Epoch 6/15\n",
      "1129/1129 [==============================] - 1s 786us/step - loss: 0.6778 - acc: 0.5666 - val_loss: 0.6706 - val_acc: 0.6136\n",
      "Epoch 7/15\n",
      "1129/1129 [==============================] - 1s 794us/step - loss: 0.6762 - acc: 0.5686 - val_loss: 0.6715 - val_acc: 0.5997\n",
      "Epoch 8/15\n",
      "1129/1129 [==============================] - 1s 860us/step - loss: 0.6740 - acc: 0.5711 - val_loss: 0.6751 - val_acc: 0.5883\n",
      "Epoch 9/15\n",
      "1129/1129 [==============================] - 1s 1ms/step - loss: 0.6730 - acc: 0.5773 - val_loss: 0.6713 - val_acc: 0.5804\n",
      "Epoch 10/15\n",
      "1129/1129 [==============================] - 1s 888us/step - loss: 0.6717 - acc: 0.5765 - val_loss: 0.6748 - val_acc: 0.5843\n",
      "Epoch 11/15\n",
      "1129/1129 [==============================] - 1s 879us/step - loss: 0.6701 - acc: 0.5793 - val_loss: 0.6738 - val_acc: 0.5833\n",
      "Epoch 12/15\n",
      "1129/1129 [==============================] - 1s 879us/step - loss: 0.6701 - acc: 0.5783 - val_loss: 0.6783 - val_acc: 0.5685\n",
      "Epoch 13/15\n",
      "1129/1129 [==============================] - 1s 868us/step - loss: 0.6698 - acc: 0.5817 - val_loss: 0.6690 - val_acc: 0.5997\n",
      "Epoch 14/15\n",
      "1129/1129 [==============================] - 1s 823us/step - loss: 0.6709 - acc: 0.5783 - val_loss: 0.6766 - val_acc: 0.5759\n",
      "Epoch 15/15\n",
      "1129/1129 [==============================] - 1s 781us/step - loss: 0.6712 - acc: 0.5762 - val_loss: 0.6668 - val_acc: 0.6027\n",
      "Fitting Fold 2\n",
      "Train on 1129 samples, validate on 126 samples\n",
      "Epoch 1/15\n",
      "1129/1129 [==============================] - 3s 3ms/step - loss: 0.6852 - acc: 0.5514 - val_loss: 0.7028 - val_acc: 0.5466\n",
      "Epoch 2/15\n",
      "1129/1129 [==============================] - 1s 804us/step - loss: 0.6798 - acc: 0.5684 - val_loss: 0.7107 - val_acc: 0.4960\n",
      "Epoch 3/15\n",
      "1129/1129 [==============================] - 1s 774us/step - loss: 0.6783 - acc: 0.5680 - val_loss: 0.7108 - val_acc: 0.5228\n",
      "Epoch 4/15\n",
      "1129/1129 [==============================] - 1s 757us/step - loss: 0.6759 - acc: 0.5743 - val_loss: 0.7148 - val_acc: 0.5367\n",
      "Epoch 5/15\n",
      "1129/1129 [==============================] - 1s 795us/step - loss: 0.6746 - acc: 0.5751 - val_loss: 0.7104 - val_acc: 0.5213\n",
      "Epoch 6/15\n",
      "1129/1129 [==============================] - 1s 830us/step - loss: 0.6738 - acc: 0.5757 - val_loss: 0.7049 - val_acc: 0.5332\n",
      "Epoch 7/15\n",
      "1129/1129 [==============================] - 1s 794us/step - loss: 0.6729 - acc: 0.5791 - val_loss: 0.7112 - val_acc: 0.5288\n",
      "Epoch 8/15\n",
      "1129/1129 [==============================] - 1s 812us/step - loss: 0.6713 - acc: 0.5790 - val_loss: 0.7133 - val_acc: 0.5218\n",
      "Epoch 9/15\n",
      "1129/1129 [==============================] - 1s 831us/step - loss: 0.6713 - acc: 0.5818 - val_loss: 0.7113 - val_acc: 0.4876\n",
      "Epoch 10/15\n",
      "1129/1129 [==============================] - 1s 801us/step - loss: 0.6692 - acc: 0.5836 - val_loss: 0.7089 - val_acc: 0.5248\n",
      "Epoch 11/15\n",
      "1129/1129 [==============================] - 1s 846us/step - loss: 0.6695 - acc: 0.5863 - val_loss: 0.7145 - val_acc: 0.5099\n",
      "Fitting Fold 3\n",
      "Train on 1129 samples, validate on 126 samples\n",
      "Epoch 1/15\n"
     ]
    },
    {
     "name": "stdout",
     "output_type": "stream",
     "text": [
      "1129/1129 [==============================] - 3s 3ms/step - loss: 0.6891 - acc: 0.5431 - val_loss: 0.7432 - val_acc: 0.4315\n",
      "Epoch 2/15\n",
      "1129/1129 [==============================] - 1s 794us/step - loss: 0.6790 - acc: 0.5747 - val_loss: 0.7321 - val_acc: 0.4405\n",
      "Epoch 3/15\n",
      "1129/1129 [==============================] - 1s 785us/step - loss: 0.6752 - acc: 0.5760 - val_loss: 0.7423 - val_acc: 0.4405\n",
      "Epoch 4/15\n",
      "1129/1129 [==============================] - 1s 765us/step - loss: 0.6741 - acc: 0.5747 - val_loss: 0.7577 - val_acc: 0.4296\n",
      "Epoch 5/15\n",
      "1129/1129 [==============================] - 1s 802us/step - loss: 0.6734 - acc: 0.5835 - val_loss: 0.7275 - val_acc: 0.4306\n",
      "Epoch 6/15\n",
      "1129/1129 [==============================] - 1s 771us/step - loss: 0.6695 - acc: 0.5834 - val_loss: 0.7366 - val_acc: 0.4425\n",
      "Epoch 7/15\n",
      "1129/1129 [==============================] - 1s 792us/step - loss: 0.6693 - acc: 0.5836 - val_loss: 0.7383 - val_acc: 0.4410\n",
      "Epoch 8/15\n",
      "1129/1129 [==============================] - 1s 787us/step - loss: 0.6684 - acc: 0.5854 - val_loss: 0.7511 - val_acc: 0.4405\n",
      "Epoch 9/15\n",
      "1129/1129 [==============================] - 1s 799us/step - loss: 0.6686 - acc: 0.5866 - val_loss: 0.7346 - val_acc: 0.4439\n",
      "Epoch 10/15\n",
      "1129/1129 [==============================] - 1s 794us/step - loss: 0.6685 - acc: 0.5855 - val_loss: 0.7419 - val_acc: 0.4395\n",
      "Epoch 11/15\n",
      "1129/1129 [==============================] - 1s 797us/step - loss: 0.6652 - acc: 0.5932 - val_loss: 0.7408 - val_acc: 0.4435\n",
      "Epoch 12/15\n",
      "1129/1129 [==============================] - 1s 802us/step - loss: 0.6650 - acc: 0.5941 - val_loss: 0.7358 - val_acc: 0.4415\n",
      "Epoch 13/15\n",
      "1129/1129 [==============================] - 1s 764us/step - loss: 0.6641 - acc: 0.5916 - val_loss: 0.7433 - val_acc: 0.4400\n",
      "Epoch 14/15\n",
      "1129/1129 [==============================] - 1s 760us/step - loss: 0.6661 - acc: 0.5868 - val_loss: 0.7164 - val_acc: 0.4673\n",
      "Epoch 15/15\n",
      "1129/1129 [==============================] - 1s 784us/step - loss: 0.6647 - acc: 0.5908 - val_loss: 0.7394 - val_acc: 0.4370\n",
      "Fitting Fold 4\n",
      "Train on 1129 samples, validate on 126 samples\n",
      "Epoch 1/15\n",
      "1129/1129 [==============================] - 3s 3ms/step - loss: 0.6813 - acc: 0.5634 - val_loss: 0.7641 - val_acc: 0.3919\n",
      "Epoch 2/15\n",
      "1129/1129 [==============================] - 1s 775us/step - loss: 0.6758 - acc: 0.5812 - val_loss: 0.7600 - val_acc: 0.3914\n",
      "Epoch 3/15\n",
      "1129/1129 [==============================] - 1s 795us/step - loss: 0.6745 - acc: 0.5827 - val_loss: 0.7604 - val_acc: 0.3919\n",
      "Epoch 4/15\n",
      "1129/1129 [==============================] - 1s 786us/step - loss: 0.6728 - acc: 0.5879 - val_loss: 0.7691 - val_acc: 0.3919\n",
      "Epoch 5/15\n",
      "1129/1129 [==============================] - 1s 779us/step - loss: 0.6705 - acc: 0.5885 - val_loss: 0.7547 - val_acc: 0.3914\n",
      "Epoch 6/15\n",
      "1129/1129 [==============================] - 1s 771us/step - loss: 0.6707 - acc: 0.5892 - val_loss: 0.7507 - val_acc: 0.3919\n",
      "Epoch 7/15\n",
      "1129/1129 [==============================] - 1s 796us/step - loss: 0.6710 - acc: 0.5896 - val_loss: 0.7596 - val_acc: 0.3934\n",
      "Epoch 8/15\n",
      "1129/1129 [==============================] - 1s 802us/step - loss: 0.6691 - acc: 0.5917 - val_loss: 0.7709 - val_acc: 0.3909\n",
      "Epoch 9/15\n",
      "1129/1129 [==============================] - 1s 789us/step - loss: 0.6691 - acc: 0.5916 - val_loss: 0.7498 - val_acc: 0.3953\n",
      "Epoch 10/15\n",
      "1129/1129 [==============================] - 1s 781us/step - loss: 0.6681 - acc: 0.5908 - val_loss: 0.7579 - val_acc: 0.3914\n",
      "Epoch 11/15\n",
      "1129/1129 [==============================] - 1s 770us/step - loss: 0.6684 - acc: 0.5890 - val_loss: 0.7586 - val_acc: 0.3943\n",
      "Epoch 12/15\n",
      "1129/1129 [==============================] - 1s 804us/step - loss: 0.6666 - acc: 0.5915 - val_loss: 0.7620 - val_acc: 0.3929\n",
      "Epoch 13/15\n",
      "1129/1129 [==============================] - 1s 794us/step - loss: 0.6651 - acc: 0.5949 - val_loss: 0.7734 - val_acc: 0.3914\n",
      "Epoch 14/15\n",
      "1129/1129 [==============================] - 1s 784us/step - loss: 0.6668 - acc: 0.5932 - val_loss: 0.7356 - val_acc: 0.3938\n",
      "Epoch 15/15\n",
      "1129/1129 [==============================] - 1s 784us/step - loss: 0.6641 - acc: 0.5969 - val_loss: 0.7649 - val_acc: 0.3948\n",
      "Fitting Fold 5\n",
      "Train on 1130 samples, validate on 125 samples\n",
      "Epoch 1/15\n",
      "1130/1130 [==============================] - 3s 3ms/step - loss: 0.6906 - acc: 0.5395 - val_loss: 0.6735 - val_acc: 0.5950\n",
      "Epoch 2/15\n",
      "1130/1130 [==============================] - 1s 789us/step - loss: 0.6838 - acc: 0.5519 - val_loss: 0.6696 - val_acc: 0.6145\n",
      "Epoch 3/15\n",
      "1130/1130 [==============================] - 1s 782us/step - loss: 0.6804 - acc: 0.5582 - val_loss: 0.6684 - val_acc: 0.6315\n",
      "Epoch 4/15\n",
      "1130/1130 [==============================] - 1s 804us/step - loss: 0.6807 - acc: 0.5592 - val_loss: 0.6715 - val_acc: 0.6215\n",
      "Epoch 5/15\n",
      "1130/1130 [==============================] - 1s 773us/step - loss: 0.6800 - acc: 0.5610 - val_loss: 0.6697 - val_acc: 0.6105\n",
      "Epoch 6/15\n",
      "1130/1130 [==============================] - 1s 795us/step - loss: 0.6795 - acc: 0.5598 - val_loss: 0.6713 - val_acc: 0.6175\n",
      "Epoch 7/15\n",
      "1130/1130 [==============================] - 1s 781us/step - loss: 0.6758 - acc: 0.5689 - val_loss: 0.6742 - val_acc: 0.6065\n",
      "Epoch 8/15\n",
      "1130/1130 [==============================] - 1s 812us/step - loss: 0.6761 - acc: 0.5707 - val_loss: 0.6721 - val_acc: 0.6085\n",
      "Epoch 9/15\n",
      "1130/1130 [==============================] - 1s 796us/step - loss: 0.6759 - acc: 0.5713 - val_loss: 0.6741 - val_acc: 0.6105\n",
      "Epoch 10/15\n",
      "1130/1130 [==============================] - 1s 821us/step - loss: 0.6726 - acc: 0.5744 - val_loss: 0.6725 - val_acc: 0.6125\n",
      "Epoch 11/15\n",
      "1130/1130 [==============================] - 1s 774us/step - loss: 0.6748 - acc: 0.5745 - val_loss: 0.6699 - val_acc: 0.6395\n",
      "Epoch 12/15\n",
      "1130/1130 [==============================] - 1s 788us/step - loss: 0.6733 - acc: 0.5782 - val_loss: 0.6672 - val_acc: 0.6410\n",
      "Epoch 13/15\n",
      "1130/1130 [==============================] - 1s 803us/step - loss: 0.6740 - acc: 0.5780 - val_loss: 0.6694 - val_acc: 0.6365\n",
      "Epoch 14/15\n",
      "1130/1130 [==============================] - 1s 773us/step - loss: 0.6733 - acc: 0.5749 - val_loss: 0.6690 - val_acc: 0.6245\n",
      "Epoch 15/15\n",
      "1130/1130 [==============================] - 1s 783us/step - loss: 0.6715 - acc: 0.5779 - val_loss: 0.6767 - val_acc: 0.5955\n",
      "Fitting Fold 6\n",
      "Train on 1130 samples, validate on 125 samples\n",
      "Epoch 1/15\n",
      "1130/1130 [==============================] - 3s 3ms/step - loss: 0.6944 - acc: 0.5304 - val_loss: 0.6509 - val_acc: 0.7200\n",
      "Epoch 2/15\n",
      "1130/1130 [==============================] - 1s 799us/step - loss: 0.6875 - acc: 0.5384 - val_loss: 0.6471 - val_acc: 0.7095\n",
      "Epoch 3/15\n",
      "1130/1130 [==============================] - 1s 806us/step - loss: 0.6848 - acc: 0.5507 - val_loss: 0.6293 - val_acc: 0.7605\n",
      "Epoch 4/15\n",
      "1130/1130 [==============================] - 1s 775us/step - loss: 0.6847 - acc: 0.5477 - val_loss: 0.6273 - val_acc: 0.7405\n",
      "Epoch 5/15\n",
      "1130/1130 [==============================] - 1s 785us/step - loss: 0.6840 - acc: 0.5475 - val_loss: 0.6228 - val_acc: 0.7445\n",
      "Epoch 6/15\n",
      "1130/1130 [==============================] - 1s 775us/step - loss: 0.6818 - acc: 0.5539 - val_loss: 0.6313 - val_acc: 0.7240\n",
      "Epoch 7/15\n",
      "1130/1130 [==============================] - 1s 784us/step - loss: 0.6810 - acc: 0.5553 - val_loss: 0.6424 - val_acc: 0.6610\n",
      "Epoch 8/15\n",
      "1130/1130 [==============================] - 1s 782us/step - loss: 0.6797 - acc: 0.5608 - val_loss: 0.6473 - val_acc: 0.6820\n",
      "Epoch 9/15\n",
      "1130/1130 [==============================] - 1s 775us/step - loss: 0.6788 - acc: 0.5621 - val_loss: 0.6237 - val_acc: 0.7280\n",
      "Epoch 10/15\n",
      "1130/1130 [==============================] - 1s 777us/step - loss: 0.6775 - acc: 0.5700 - val_loss: 0.6377 - val_acc: 0.6810\n",
      "Epoch 11/15\n",
      "1130/1130 [==============================] - 1s 783us/step - loss: 0.6785 - acc: 0.5592 - val_loss: 0.6045 - val_acc: 0.7575\n",
      "Epoch 12/15\n",
      "1130/1130 [==============================] - 1s 789us/step - loss: 0.6785 - acc: 0.5632 - val_loss: 0.6335 - val_acc: 0.6920\n",
      "Epoch 13/15\n",
      "1130/1130 [==============================] - 1s 812us/step - loss: 0.6765 - acc: 0.5704 - val_loss: 0.6275 - val_acc: 0.7050\n",
      "Epoch 14/15\n",
      "1130/1130 [==============================] - 1s 787us/step - loss: 0.6765 - acc: 0.5683 - val_loss: 0.6427 - val_acc: 0.6455\n"
     ]
    },
    {
     "name": "stdout",
     "output_type": "stream",
     "text": [
      "Epoch 15/15\n",
      "1130/1130 [==============================] - 1s 772us/step - loss: 0.6762 - acc: 0.5705 - val_loss: 0.6466 - val_acc: 0.6650\n",
      "Fitting Fold 7\n",
      "Train on 1130 samples, validate on 125 samples\n",
      "Epoch 1/15\n",
      "1130/1130 [==============================] - 3s 3ms/step - loss: 0.6925 - acc: 0.5357 - val_loss: 0.6491 - val_acc: 0.6805\n",
      "Epoch 2/15\n",
      "1130/1130 [==============================] - 1s 781us/step - loss: 0.6851 - acc: 0.5581 - val_loss: 0.6535 - val_acc: 0.6450\n",
      "Epoch 3/15\n",
      "1130/1130 [==============================] - 1s 787us/step - loss: 0.6828 - acc: 0.5570 - val_loss: 0.6419 - val_acc: 0.6675\n",
      "Epoch 4/15\n",
      "1130/1130 [==============================] - 1s 781us/step - loss: 0.6831 - acc: 0.5545 - val_loss: 0.6461 - val_acc: 0.6690\n",
      "Epoch 5/15\n",
      "1130/1130 [==============================] - 1s 785us/step - loss: 0.6811 - acc: 0.5597 - val_loss: 0.6391 - val_acc: 0.6730\n",
      "Epoch 6/15\n",
      "1130/1130 [==============================] - 1s 765us/step - loss: 0.6811 - acc: 0.5612 - val_loss: 0.6502 - val_acc: 0.6685\n",
      "Epoch 7/15\n",
      "1130/1130 [==============================] - 1s 801us/step - loss: 0.6806 - acc: 0.5600 - val_loss: 0.6414 - val_acc: 0.6745\n",
      "Epoch 8/15\n",
      "1130/1130 [==============================] - 1s 775us/step - loss: 0.6785 - acc: 0.5672 - val_loss: 0.6525 - val_acc: 0.6545\n",
      "Epoch 9/15\n",
      "1130/1130 [==============================] - 1s 776us/step - loss: 0.6773 - acc: 0.5718 - val_loss: 0.6440 - val_acc: 0.6575\n",
      "Epoch 10/15\n",
      "1130/1130 [==============================] - 1s 806us/step - loss: 0.6758 - acc: 0.5767 - val_loss: 0.6551 - val_acc: 0.6345\n",
      "Epoch 11/15\n",
      "1130/1130 [==============================] - 1s 772us/step - loss: 0.6778 - acc: 0.5723 - val_loss: 0.6353 - val_acc: 0.6625\n",
      "Epoch 12/15\n",
      "1130/1130 [==============================] - 1s 763us/step - loss: 0.6766 - acc: 0.5706 - val_loss: 0.6370 - val_acc: 0.6675\n",
      "Epoch 13/15\n",
      "1130/1130 [==============================] - 1s 775us/step - loss: 0.6761 - acc: 0.5706 - val_loss: 0.6392 - val_acc: 0.6645\n",
      "Epoch 14/15\n",
      "1130/1130 [==============================] - 1s 798us/step - loss: 0.6747 - acc: 0.5747 - val_loss: 0.6404 - val_acc: 0.6615\n",
      "Epoch 15/15\n",
      "1130/1130 [==============================] - 1s 788us/step - loss: 0.6731 - acc: 0.5778 - val_loss: 0.6594 - val_acc: 0.6375\n",
      "Fitting Fold 8\n",
      "Train on 1130 samples, validate on 125 samples\n",
      "Epoch 1/15\n",
      "1130/1130 [==============================] - 3s 3ms/step - loss: 0.6869 - acc: 0.5566 - val_loss: 0.7019 - val_acc: 0.5065\n",
      "Epoch 2/15\n",
      "1130/1130 [==============================] - 1s 804us/step - loss: 0.6781 - acc: 0.5738 - val_loss: 0.7013 - val_acc: 0.4920\n",
      "Epoch 3/15\n",
      "1130/1130 [==============================] - 1s 781us/step - loss: 0.6739 - acc: 0.5727 - val_loss: 0.7276 - val_acc: 0.4785\n",
      "Epoch 4/15\n",
      "1130/1130 [==============================] - 1s 793us/step - loss: 0.6734 - acc: 0.5777 - val_loss: 0.7131 - val_acc: 0.5105\n",
      "Epoch 5/15\n",
      "1130/1130 [==============================] - 1s 788us/step - loss: 0.6716 - acc: 0.5820 - val_loss: 0.7293 - val_acc: 0.5155\n",
      "Epoch 6/15\n",
      "1130/1130 [==============================] - 1s 788us/step - loss: 0.6713 - acc: 0.5837 - val_loss: 0.7127 - val_acc: 0.5020\n",
      "Epoch 7/15\n",
      "1130/1130 [==============================] - 1s 820us/step - loss: 0.6691 - acc: 0.5856 - val_loss: 0.7204 - val_acc: 0.5125\n",
      "Epoch 8/15\n",
      "1130/1130 [==============================] - 1s 814us/step - loss: 0.6687 - acc: 0.5874 - val_loss: 0.7121 - val_acc: 0.4940\n",
      "Epoch 9/15\n",
      "1130/1130 [==============================] - 1s 796us/step - loss: 0.6678 - acc: 0.5882 - val_loss: 0.7251 - val_acc: 0.5115\n",
      "Epoch 10/15\n",
      "1130/1130 [==============================] - 1s 839us/step - loss: 0.6651 - acc: 0.5935 - val_loss: 0.7007 - val_acc: 0.5245\n",
      "Epoch 11/15\n",
      "1130/1130 [==============================] - 1s 804us/step - loss: 0.6647 - acc: 0.5884 - val_loss: 0.7402 - val_acc: 0.5080\n",
      "Epoch 12/15\n",
      "1130/1130 [==============================] - 1s 793us/step - loss: 0.6639 - acc: 0.5968 - val_loss: 0.7385 - val_acc: 0.5000\n",
      "Epoch 13/15\n",
      "1130/1130 [==============================] - 1s 808us/step - loss: 0.6629 - acc: 0.5958 - val_loss: 0.7246 - val_acc: 0.5035\n",
      "Epoch 14/15\n",
      "1130/1130 [==============================] - 1s 795us/step - loss: 0.6620 - acc: 0.5971 - val_loss: 0.7285 - val_acc: 0.5155\n",
      "Epoch 15/15\n",
      "1130/1130 [==============================] - 1s 788us/step - loss: 0.6603 - acc: 0.6000 - val_loss: 0.7291 - val_acc: 0.4885\n",
      "Fitting Fold 9\n",
      "Train on 1130 samples, validate on 125 samples\n",
      "Epoch 1/15\n",
      "1130/1130 [==============================] - 3s 3ms/step - loss: 0.6858 - acc: 0.5604 - val_loss: 0.7126 - val_acc: 0.4730\n",
      "Epoch 2/15\n",
      "1130/1130 [==============================] - 1s 830us/step - loss: 0.6788 - acc: 0.5762 - val_loss: 0.7073 - val_acc: 0.4620\n",
      "Epoch 3/15\n",
      "1130/1130 [==============================] - 1s 819us/step - loss: 0.6738 - acc: 0.5803 - val_loss: 0.7215 - val_acc: 0.4645\n",
      "Epoch 4/15\n",
      "1130/1130 [==============================] - 1s 818us/step - loss: 0.6738 - acc: 0.5810 - val_loss: 0.7041 - val_acc: 0.4795\n",
      "Epoch 5/15\n",
      "1130/1130 [==============================] - 1s 797us/step - loss: 0.6718 - acc: 0.5859 - val_loss: 0.7283 - val_acc: 0.4765\n",
      "Epoch 6/15\n",
      "1130/1130 [==============================] - 1s 801us/step - loss: 0.6710 - acc: 0.5850 - val_loss: 0.7067 - val_acc: 0.4820\n",
      "Epoch 7/15\n",
      "1130/1130 [==============================] - 1s 798us/step - loss: 0.6700 - acc: 0.5931 - val_loss: 0.7173 - val_acc: 0.4790\n",
      "Epoch 8/15\n",
      "1130/1130 [==============================] - 1s 813us/step - loss: 0.6693 - acc: 0.5915 - val_loss: 0.7066 - val_acc: 0.4665\n",
      "Epoch 9/15\n",
      "1130/1130 [==============================] - 1s 822us/step - loss: 0.6686 - acc: 0.5900 - val_loss: 0.7188 - val_acc: 0.4725\n",
      "Epoch 10/15\n",
      "1130/1130 [==============================] - 1s 783us/step - loss: 0.6665 - acc: 0.5940 - val_loss: 0.6950 - val_acc: 0.4960\n",
      "Epoch 11/15\n",
      "1130/1130 [==============================] - 1s 782us/step - loss: 0.6667 - acc: 0.5945 - val_loss: 0.7312 - val_acc: 0.4750\n",
      "Epoch 12/15\n",
      "1130/1130 [==============================] - 1s 826us/step - loss: 0.6674 - acc: 0.5950 - val_loss: 0.7218 - val_acc: 0.4755\n",
      "Epoch 13/15\n",
      "1130/1130 [==============================] - 1s 799us/step - loss: 0.6676 - acc: 0.5943 - val_loss: 0.7128 - val_acc: 0.4810\n",
      "Epoch 14/15\n",
      "1130/1130 [==============================] - 1s 794us/step - loss: 0.6649 - acc: 0.5957 - val_loss: 0.7070 - val_acc: 0.4835\n",
      "Epoch 15/15\n",
      "1130/1130 [==============================] - 1s 776us/step - loss: 0.6640 - acc: 0.5996 - val_loss: 0.7121 - val_acc: 0.4880\n"
     ]
    },
    {
     "name": "stderr",
     "output_type": "stream",
     "text": [
      "C:\\Users\\rcapu\\Anaconda3\\lib\\site-packages\\sklearn\\utils\\deprecation.py:58: DeprecationWarning: Class Imputer is deprecated; Imputer was deprecated in version 0.20 and will be removed in 0.22. Import impute.SimpleImputer from sklearn instead.\n",
      "  warnings.warn(msg, category=DeprecationWarning)\n"
     ]
    }
   ],
   "source": [
    "X_train, X_test, y_train, y_test = model.build_pred_data()"
   ]
  },
  {
   "cell_type": "code",
   "execution_count": 5,
   "metadata": {},
   "outputs": [
    {
     "data": {
      "text/html": [
       "<div>\n",
       "<style scoped>\n",
       "    .dataframe tbody tr th:only-of-type {\n",
       "        vertical-align: middle;\n",
       "    }\n",
       "\n",
       "    .dataframe tbody tr th {\n",
       "        vertical-align: top;\n",
       "    }\n",
       "\n",
       "    .dataframe thead th {\n",
       "        text-align: right;\n",
       "    }\n",
       "</style>\n",
       "<table border=\"1\" class=\"dataframe\">\n",
       "  <thead>\n",
       "    <tr style=\"text-align: right;\">\n",
       "      <th></th>\n",
       "      <th>DBCtext</th>\n",
       "      <th>EEMtext</th>\n",
       "      <th>EWJtext</th>\n",
       "      <th>FXItext</th>\n",
       "      <th>GDXtext</th>\n",
       "      <th>GLDtext</th>\n",
       "      <th>QQQtext</th>\n",
       "      <th>SPYtext</th>\n",
       "      <th>TLTtext</th>\n",
       "      <th>USOtext</th>\n",
       "      <th>...</th>\n",
       "      <th>QQQtick</th>\n",
       "      <th>SPYtick</th>\n",
       "      <th>TLTtick</th>\n",
       "      <th>USOtick</th>\n",
       "      <th>VTItick</th>\n",
       "      <th>VXXtick</th>\n",
       "      <th>XHBtick</th>\n",
       "      <th>XLFtick</th>\n",
       "      <th>XRTtick</th>\n",
       "      <th>XSWtick</th>\n",
       "    </tr>\n",
       "  </thead>\n",
       "  <tbody>\n",
       "    <tr>\n",
       "      <th>2017-12-08 00:00:00-05:00</th>\n",
       "      <td>0.489355</td>\n",
       "      <td>0.457717</td>\n",
       "      <td>0.568181</td>\n",
       "      <td>0.692604</td>\n",
       "      <td>0.207623</td>\n",
       "      <td>0.272464</td>\n",
       "      <td>0.858903</td>\n",
       "      <td>0.653818</td>\n",
       "      <td>0.229651</td>\n",
       "      <td>0.397161</td>\n",
       "      <td>...</td>\n",
       "      <td>0.442765</td>\n",
       "      <td>0.461158</td>\n",
       "      <td>0.456428</td>\n",
       "      <td>0.390141</td>\n",
       "      <td>0.423689</td>\n",
       "      <td>0.353370</td>\n",
       "      <td>0.420847</td>\n",
       "      <td>0.441292</td>\n",
       "      <td>0.371741</td>\n",
       "      <td>0.367808</td>\n",
       "    </tr>\n",
       "    <tr>\n",
       "      <th>2017-12-11 00:00:00-05:00</th>\n",
       "      <td>0.453744</td>\n",
       "      <td>0.373150</td>\n",
       "      <td>0.557593</td>\n",
       "      <td>0.604574</td>\n",
       "      <td>0.299511</td>\n",
       "      <td>0.313788</td>\n",
       "      <td>0.839292</td>\n",
       "      <td>0.619394</td>\n",
       "      <td>0.255917</td>\n",
       "      <td>0.415747</td>\n",
       "      <td>...</td>\n",
       "      <td>0.468832</td>\n",
       "      <td>0.504712</td>\n",
       "      <td>0.482897</td>\n",
       "      <td>0.453399</td>\n",
       "      <td>0.484300</td>\n",
       "      <td>0.413941</td>\n",
       "      <td>0.498694</td>\n",
       "      <td>0.461890</td>\n",
       "      <td>0.386721</td>\n",
       "      <td>0.444686</td>\n",
       "    </tr>\n",
       "    <tr>\n",
       "      <th>2017-12-14 00:00:00-05:00</th>\n",
       "      <td>0.603077</td>\n",
       "      <td>0.506183</td>\n",
       "      <td>0.736356</td>\n",
       "      <td>0.772341</td>\n",
       "      <td>0.377325</td>\n",
       "      <td>0.377379</td>\n",
       "      <td>0.959167</td>\n",
       "      <td>0.816836</td>\n",
       "      <td>0.320584</td>\n",
       "      <td>0.541130</td>\n",
       "      <td>...</td>\n",
       "      <td>0.442765</td>\n",
       "      <td>0.461158</td>\n",
       "      <td>0.456428</td>\n",
       "      <td>0.390141</td>\n",
       "      <td>0.423689</td>\n",
       "      <td>0.353370</td>\n",
       "      <td>0.420847</td>\n",
       "      <td>0.441292</td>\n",
       "      <td>0.371741</td>\n",
       "      <td>0.367808</td>\n",
       "    </tr>\n",
       "    <tr>\n",
       "      <th>2017-12-15 00:00:00-05:00</th>\n",
       "      <td>0.495824</td>\n",
       "      <td>0.473101</td>\n",
       "      <td>0.511445</td>\n",
       "      <td>0.719850</td>\n",
       "      <td>0.153746</td>\n",
       "      <td>0.240574</td>\n",
       "      <td>0.867138</td>\n",
       "      <td>0.632370</td>\n",
       "      <td>0.196865</td>\n",
       "      <td>0.373684</td>\n",
       "      <td>...</td>\n",
       "      <td>0.514328</td>\n",
       "      <td>0.571373</td>\n",
       "      <td>0.456038</td>\n",
       "      <td>0.394932</td>\n",
       "      <td>0.514171</td>\n",
       "      <td>0.331706</td>\n",
       "      <td>0.475057</td>\n",
       "      <td>0.511973</td>\n",
       "      <td>0.414182</td>\n",
       "      <td>0.511628</td>\n",
       "    </tr>\n",
       "    <tr>\n",
       "      <th>2017-12-21 00:00:00-05:00</th>\n",
       "      <td>0.460546</td>\n",
       "      <td>0.368720</td>\n",
       "      <td>0.558635</td>\n",
       "      <td>0.602132</td>\n",
       "      <td>0.305664</td>\n",
       "      <td>0.319122</td>\n",
       "      <td>0.841791</td>\n",
       "      <td>0.617557</td>\n",
       "      <td>0.255301</td>\n",
       "      <td>0.424460</td>\n",
       "      <td>...</td>\n",
       "      <td>0.496853</td>\n",
       "      <td>0.574711</td>\n",
       "      <td>0.529042</td>\n",
       "      <td>0.467833</td>\n",
       "      <td>0.535076</td>\n",
       "      <td>0.472002</td>\n",
       "      <td>0.514199</td>\n",
       "      <td>0.462283</td>\n",
       "      <td>0.436625</td>\n",
       "      <td>0.469371</td>\n",
       "    </tr>\n",
       "  </tbody>\n",
       "</table>\n",
       "<p>5 rows × 32 columns</p>\n",
       "</div>"
      ],
      "text/plain": [
       "                            DBCtext   EEMtext   EWJtext   FXItext   GDXtext  \\\n",
       "2017-12-08 00:00:00-05:00  0.489355  0.457717  0.568181  0.692604  0.207623   \n",
       "2017-12-11 00:00:00-05:00  0.453744  0.373150  0.557593  0.604574  0.299511   \n",
       "2017-12-14 00:00:00-05:00  0.603077  0.506183  0.736356  0.772341  0.377325   \n",
       "2017-12-15 00:00:00-05:00  0.495824  0.473101  0.511445  0.719850  0.153746   \n",
       "2017-12-21 00:00:00-05:00  0.460546  0.368720  0.558635  0.602132  0.305664   \n",
       "\n",
       "                            GLDtext   QQQtext   SPYtext   TLTtext   USOtext  \\\n",
       "2017-12-08 00:00:00-05:00  0.272464  0.858903  0.653818  0.229651  0.397161   \n",
       "2017-12-11 00:00:00-05:00  0.313788  0.839292  0.619394  0.255917  0.415747   \n",
       "2017-12-14 00:00:00-05:00  0.377379  0.959167  0.816836  0.320584  0.541130   \n",
       "2017-12-15 00:00:00-05:00  0.240574  0.867138  0.632370  0.196865  0.373684   \n",
       "2017-12-21 00:00:00-05:00  0.319122  0.841791  0.617557  0.255301  0.424460   \n",
       "\n",
       "                           ...   QQQtick   SPYtick   TLTtick   USOtick  \\\n",
       "2017-12-08 00:00:00-05:00  ...  0.442765  0.461158  0.456428  0.390141   \n",
       "2017-12-11 00:00:00-05:00  ...  0.468832  0.504712  0.482897  0.453399   \n",
       "2017-12-14 00:00:00-05:00  ...  0.442765  0.461158  0.456428  0.390141   \n",
       "2017-12-15 00:00:00-05:00  ...  0.514328  0.571373  0.456038  0.394932   \n",
       "2017-12-21 00:00:00-05:00  ...  0.496853  0.574711  0.529042  0.467833   \n",
       "\n",
       "                            VTItick   VXXtick   XHBtick   XLFtick   XRTtick  \\\n",
       "2017-12-08 00:00:00-05:00  0.423689  0.353370  0.420847  0.441292  0.371741   \n",
       "2017-12-11 00:00:00-05:00  0.484300  0.413941  0.498694  0.461890  0.386721   \n",
       "2017-12-14 00:00:00-05:00  0.423689  0.353370  0.420847  0.441292  0.371741   \n",
       "2017-12-15 00:00:00-05:00  0.514171  0.331706  0.475057  0.511973  0.414182   \n",
       "2017-12-21 00:00:00-05:00  0.535076  0.472002  0.514199  0.462283  0.436625   \n",
       "\n",
       "                            XSWtick  \n",
       "2017-12-08 00:00:00-05:00  0.367808  \n",
       "2017-12-11 00:00:00-05:00  0.444686  \n",
       "2017-12-14 00:00:00-05:00  0.367808  \n",
       "2017-12-15 00:00:00-05:00  0.511628  \n",
       "2017-12-21 00:00:00-05:00  0.469371  \n",
       "\n",
       "[5 rows x 32 columns]"
      ]
     },
     "execution_count": 5,
     "metadata": {},
     "output_type": "execute_result"
    }
   ],
   "source": [
    "# Observe X_train\n",
    "X_train.head()"
   ]
  },
  {
   "cell_type": "markdown",
   "metadata": {},
   "source": [
    "Finally, we combine these model predictions using a random forest classifier. We optimize hyperparameters independently for each ETF."
   ]
  },
  {
   "cell_type": "code",
   "execution_count": 6,
   "metadata": {},
   "outputs": [
    {
     "name": "stdout",
     "output_type": "stream",
     "text": [
      "Fitting 10 folds for each of 50 candidates, totalling 500 fits\n"
     ]
    },
    {
     "name": "stderr",
     "output_type": "stream",
     "text": [
      "[Parallel(n_jobs=4)]: Using backend LokyBackend with 4 concurrent workers.\n",
      "[Parallel(n_jobs=4)]: Done  40 tasks      | elapsed:    1.9s\n",
      "[Parallel(n_jobs=4)]: Done 500 out of 500 | elapsed:    3.7s finished\n",
      "C:\\Users\\rcapu\\Anaconda3\\lib\\site-packages\\sklearn\\model_selection\\_search.py:841: DeprecationWarning: The default of the `iid` parameter will change from True to False in version 0.22 and will be removed in 0.24. This will change numeric results when test-set sizes are unequal.\n",
      "  DeprecationWarning)\n"
     ]
    },
    {
     "name": "stdout",
     "output_type": "stream",
     "text": [
      "Metrics for DBC\n",
      "CV Score  0.5251949643493761\n",
      "Test score  0.45454545454545453\n",
      "Fitting 10 folds for each of 50 candidates, totalling 500 fits\n"
     ]
    },
    {
     "name": "stderr",
     "output_type": "stream",
     "text": [
      "[Parallel(n_jobs=4)]: Using backend LokyBackend with 4 concurrent workers.\n",
      "[Parallel(n_jobs=4)]: Done 500 out of 500 | elapsed:    1.9s finished\n",
      "C:\\Users\\rcapu\\Anaconda3\\lib\\site-packages\\sklearn\\model_selection\\_search.py:841: DeprecationWarning: The default of the `iid` parameter will change from True to False in version 0.22 and will be removed in 0.24. This will change numeric results when test-set sizes are unequal.\n",
      "  DeprecationWarning)\n"
     ]
    },
    {
     "name": "stdout",
     "output_type": "stream",
     "text": [
      "Metrics for EEM\n",
      "CV Score  0.5097593582887701\n",
      "Test score  0.6363636363636364\n",
      "Fitting 10 folds for each of 50 candidates, totalling 500 fits\n"
     ]
    },
    {
     "name": "stderr",
     "output_type": "stream",
     "text": [
      "[Parallel(n_jobs=4)]: Using backend LokyBackend with 4 concurrent workers.\n",
      "[Parallel(n_jobs=4)]: Done 500 out of 500 | elapsed:    2.0s finished\n",
      "C:\\Users\\rcapu\\Anaconda3\\lib\\site-packages\\sklearn\\model_selection\\_search.py:841: DeprecationWarning: The default of the `iid` parameter will change from True to False in version 0.22 and will be removed in 0.24. This will change numeric results when test-set sizes are unequal.\n",
      "  DeprecationWarning)\n"
     ]
    },
    {
     "name": "stdout",
     "output_type": "stream",
     "text": [
      "Metrics for EWJ\n",
      "CV Score  0.4865864527629234\n",
      "Test score  0.45454545454545453\n",
      "Fitting 10 folds for each of 50 candidates, totalling 500 fits\n"
     ]
    },
    {
     "name": "stderr",
     "output_type": "stream",
     "text": [
      "[Parallel(n_jobs=4)]: Using backend LokyBackend with 4 concurrent workers.\n",
      "[Parallel(n_jobs=4)]: Done 500 out of 500 | elapsed:    2.0s finished\n",
      "C:\\Users\\rcapu\\Anaconda3\\lib\\site-packages\\sklearn\\model_selection\\_search.py:841: DeprecationWarning: The default of the `iid` parameter will change from True to False in version 0.22 and will be removed in 0.24. This will change numeric results when test-set sizes are unequal.\n",
      "  DeprecationWarning)\n"
     ]
    },
    {
     "name": "stdout",
     "output_type": "stream",
     "text": [
      "Metrics for FXI\n",
      "CV Score  0.4935828877005347\n",
      "Test score  0.45454545454545453\n",
      "Fitting 10 folds for each of 50 candidates, totalling 500 fits\n"
     ]
    },
    {
     "name": "stderr",
     "output_type": "stream",
     "text": [
      "[Parallel(n_jobs=4)]: Using backend LokyBackend with 4 concurrent workers.\n",
      "[Parallel(n_jobs=4)]: Done 500 out of 500 | elapsed:    2.1s finished\n",
      "C:\\Users\\rcapu\\Anaconda3\\lib\\site-packages\\sklearn\\model_selection\\_search.py:841: DeprecationWarning: The default of the `iid` parameter will change from True to False in version 0.22 and will be removed in 0.24. This will change numeric results when test-set sizes are unequal.\n",
      "  DeprecationWarning)\n"
     ]
    },
    {
     "name": "stdout",
     "output_type": "stream",
     "text": [
      "Metrics for GDX\n",
      "CV Score  0.6763201871657755\n",
      "Test score  0.2727272727272727\n",
      "Fitting 10 folds for each of 50 candidates, totalling 500 fits\n"
     ]
    },
    {
     "name": "stderr",
     "output_type": "stream",
     "text": [
      "[Parallel(n_jobs=4)]: Using backend LokyBackend with 4 concurrent workers.\n",
      "[Parallel(n_jobs=4)]: Done 500 out of 500 | elapsed:    2.0s finished\n",
      "C:\\Users\\rcapu\\Anaconda3\\lib\\site-packages\\sklearn\\model_selection\\_search.py:841: DeprecationWarning: The default of the `iid` parameter will change from True to False in version 0.22 and will be removed in 0.24. This will change numeric results when test-set sizes are unequal.\n",
      "  DeprecationWarning)\n"
     ]
    },
    {
     "name": "stdout",
     "output_type": "stream",
     "text": [
      "Metrics for GLD\n",
      "CV Score  0.5947916666666667\n",
      "Test score  0.2727272727272727\n",
      "Fitting 10 folds for each of 50 candidates, totalling 500 fits\n"
     ]
    },
    {
     "name": "stderr",
     "output_type": "stream",
     "text": [
      "[Parallel(n_jobs=4)]: Using backend LokyBackend with 4 concurrent workers.\n",
      "[Parallel(n_jobs=4)]: Done 500 out of 500 | elapsed:    2.0s finished\n",
      "C:\\Users\\rcapu\\Anaconda3\\lib\\site-packages\\sklearn\\model_selection\\_search.py:841: DeprecationWarning: The default of the `iid` parameter will change from True to False in version 0.22 and will be removed in 0.24. This will change numeric results when test-set sizes are unequal.\n",
      "  DeprecationWarning)\n"
     ]
    },
    {
     "name": "stdout",
     "output_type": "stream",
     "text": [
      "Metrics for QQQ\n",
      "CV Score  0.7160539215686275\n",
      "Test score  0.8181818181818182\n",
      "Fitting 10 folds for each of 50 candidates, totalling 500 fits\n"
     ]
    },
    {
     "name": "stderr",
     "output_type": "stream",
     "text": [
      "[Parallel(n_jobs=4)]: Using backend LokyBackend with 4 concurrent workers.\n",
      "[Parallel(n_jobs=4)]: Done 500 out of 500 | elapsed:    2.1s finished\n",
      "C:\\Users\\rcapu\\Anaconda3\\lib\\site-packages\\sklearn\\model_selection\\_search.py:841: DeprecationWarning: The default of the `iid` parameter will change from True to False in version 0.22 and will be removed in 0.24. This will change numeric results when test-set sizes are unequal.\n",
      "  DeprecationWarning)\n"
     ]
    },
    {
     "name": "stdout",
     "output_type": "stream",
     "text": [
      "Metrics for SPY\n",
      "CV Score  0.5548908199643494\n",
      "Test score  0.6363636363636364\n",
      "Fitting 10 folds for each of 50 candidates, totalling 500 fits\n"
     ]
    },
    {
     "name": "stderr",
     "output_type": "stream",
     "text": [
      "[Parallel(n_jobs=4)]: Using backend LokyBackend with 4 concurrent workers.\n",
      "[Parallel(n_jobs=4)]: Done 500 out of 500 | elapsed:    2.1s finished\n",
      "C:\\Users\\rcapu\\Anaconda3\\lib\\site-packages\\sklearn\\model_selection\\_search.py:841: DeprecationWarning: The default of the `iid` parameter will change from True to False in version 0.22 and will be removed in 0.24. This will change numeric results when test-set sizes are unequal.\n",
      "  DeprecationWarning)\n"
     ]
    },
    {
     "name": "stdout",
     "output_type": "stream",
     "text": [
      "Metrics for TLT\n",
      "CV Score  0.5588465298142717\n",
      "Test score  0.36363636363636365\n",
      "Fitting 10 folds for each of 50 candidates, totalling 500 fits\n"
     ]
    },
    {
     "name": "stderr",
     "output_type": "stream",
     "text": [
      "[Parallel(n_jobs=4)]: Using backend LokyBackend with 4 concurrent workers.\n",
      "[Parallel(n_jobs=4)]: Done 500 out of 500 | elapsed:    2.2s finished\n",
      "C:\\Users\\rcapu\\Anaconda3\\lib\\site-packages\\sklearn\\model_selection\\_search.py:841: DeprecationWarning: The default of the `iid` parameter will change from True to False in version 0.22 and will be removed in 0.24. This will change numeric results when test-set sizes are unequal.\n",
      "  DeprecationWarning)\n"
     ]
    },
    {
     "name": "stdout",
     "output_type": "stream",
     "text": [
      "Metrics for USO\n",
      "CV Score  0.4889540566959922\n",
      "Test score  0.6363636363636364\n",
      "Fitting 10 folds for each of 50 candidates, totalling 500 fits\n"
     ]
    },
    {
     "name": "stderr",
     "output_type": "stream",
     "text": [
      "[Parallel(n_jobs=4)]: Using backend LokyBackend with 4 concurrent workers.\n",
      "[Parallel(n_jobs=4)]: Done 500 out of 500 | elapsed:    2.1s finished\n",
      "C:\\Users\\rcapu\\Anaconda3\\lib\\site-packages\\sklearn\\model_selection\\_search.py:841: DeprecationWarning: The default of the `iid` parameter will change from True to False in version 0.22 and will be removed in 0.24. This will change numeric results when test-set sizes are unequal.\n",
      "  DeprecationWarning)\n"
     ]
    },
    {
     "name": "stdout",
     "output_type": "stream",
     "text": [
      "Metrics for VTI\n",
      "CV Score  0.6058823529411764\n",
      "Test score  0.6363636363636364\n",
      "Fitting 10 folds for each of 50 candidates, totalling 500 fits\n"
     ]
    },
    {
     "name": "stderr",
     "output_type": "stream",
     "text": [
      "[Parallel(n_jobs=4)]: Using backend LokyBackend with 4 concurrent workers.\n",
      "[Parallel(n_jobs=4)]: Done 358 tasks      | elapsed:    1.7s\n",
      "[Parallel(n_jobs=4)]: Done 500 out of 500 | elapsed:    2.4s finished\n",
      "C:\\Users\\rcapu\\Anaconda3\\lib\\site-packages\\sklearn\\model_selection\\_search.py:841: DeprecationWarning: The default of the `iid` parameter will change from True to False in version 0.22 and will be removed in 0.24. This will change numeric results when test-set sizes are unequal.\n",
      "  DeprecationWarning)\n"
     ]
    },
    {
     "name": "stdout",
     "output_type": "stream",
     "text": [
      "Metrics for VXX\n",
      "CV Score  0.9518438057040999\n",
      "Test score  1.0\n",
      "Fitting 10 folds for each of 50 candidates, totalling 500 fits\n"
     ]
    },
    {
     "name": "stderr",
     "output_type": "stream",
     "text": [
      "[Parallel(n_jobs=4)]: Using backend LokyBackend with 4 concurrent workers.\n",
      "[Parallel(n_jobs=4)]: Done 500 out of 500 | elapsed:    2.0s finished\n",
      "C:\\Users\\rcapu\\Anaconda3\\lib\\site-packages\\sklearn\\model_selection\\_search.py:841: DeprecationWarning: The default of the `iid` parameter will change from True to False in version 0.22 and will be removed in 0.24. This will change numeric results when test-set sizes are unequal.\n",
      "  DeprecationWarning)\n"
     ]
    },
    {
     "name": "stdout",
     "output_type": "stream",
     "text": [
      "Metrics for XHB\n",
      "CV Score  0.368527183600713\n",
      "Test score  0.5454545454545454\n",
      "Fitting 10 folds for each of 50 candidates, totalling 500 fits\n"
     ]
    },
    {
     "name": "stderr",
     "output_type": "stream",
     "text": [
      "[Parallel(n_jobs=4)]: Using backend LokyBackend with 4 concurrent workers.\n",
      "[Parallel(n_jobs=4)]: Done 500 out of 500 | elapsed:    2.2s finished\n",
      "C:\\Users\\rcapu\\Anaconda3\\lib\\site-packages\\sklearn\\model_selection\\_search.py:841: DeprecationWarning: The default of the `iid` parameter will change from True to False in version 0.22 and will be removed in 0.24. This will change numeric results when test-set sizes are unequal.\n",
      "  DeprecationWarning)\n"
     ]
    },
    {
     "name": "stdout",
     "output_type": "stream",
     "text": [
      "Metrics for XLF\n",
      "CV Score  0.6009191176470589\n",
      "Test score  0.5454545454545454\n",
      "Fitting 10 folds for each of 50 candidates, totalling 500 fits\n"
     ]
    },
    {
     "name": "stderr",
     "output_type": "stream",
     "text": [
      "[Parallel(n_jobs=4)]: Using backend LokyBackend with 4 concurrent workers.\n",
      "[Parallel(n_jobs=4)]: Done 500 out of 500 | elapsed:    2.0s finished\n",
      "C:\\Users\\rcapu\\Anaconda3\\lib\\site-packages\\sklearn\\model_selection\\_search.py:841: DeprecationWarning: The default of the `iid` parameter will change from True to False in version 0.22 and will be removed in 0.24. This will change numeric results when test-set sizes are unequal.\n",
      "  DeprecationWarning)\n"
     ]
    },
    {
     "name": "stdout",
     "output_type": "stream",
     "text": [
      "Metrics for XRT\n",
      "CV Score  0.526437165775401\n",
      "Test score  0.36363636363636365\n",
      "Fitting 10 folds for each of 50 candidates, totalling 500 fits\n"
     ]
    },
    {
     "name": "stderr",
     "output_type": "stream",
     "text": [
      "[Parallel(n_jobs=4)]: Using backend LokyBackend with 4 concurrent workers.\n",
      "[Parallel(n_jobs=4)]: Done 308 tasks      | elapsed:    1.3s\n",
      "[Parallel(n_jobs=4)]: Done 500 out of 500 | elapsed:    2.1s finished\n",
      "C:\\Users\\rcapu\\Anaconda3\\lib\\site-packages\\sklearn\\model_selection\\_search.py:841: DeprecationWarning: The default of the `iid` parameter will change from True to False in version 0.22 and will be removed in 0.24. This will change numeric results when test-set sizes are unequal.\n",
      "  DeprecationWarning)\n"
     ]
    },
    {
     "name": "stdout",
     "output_type": "stream",
     "text": [
      "Metrics for XSW\n",
      "CV Score  0.5984359726295211\n",
      "Test score  0.7272727272727273\n"
     ]
    }
   ],
   "source": [
    "y_train_df, y_test_df, models = model.model_search()"
   ]
  },
  {
   "cell_type": "markdown",
   "metadata": {},
   "source": [
    "# Model Testing\n",
    "\n",
    "We will examine the performance of on our test data and take a look at how much money our model would have made or lost per share invested."
   ]
  },
  {
   "cell_type": "code",
   "execution_count": 7,
   "metadata": {},
   "outputs": [
    {
     "data": {
      "text/plain": [
       "0.5511363636363636"
      ]
     },
     "execution_count": 7,
     "metadata": {},
     "output_type": "execute_result"
    }
   ],
   "source": [
    "# Test Accuracy\n",
    "(y_test_df == y_test).sum().sum() / (y_test.shape[0] * y_test.shape[1])"
   ]
  },
  {
   "cell_type": "code",
   "execution_count": 8,
   "metadata": {},
   "outputs": [],
   "source": [
    "# Get strategy\n",
    "rsi_df = pd.read_csv('data/rsi_pl.csv', index_col=0)\n",
    "rsi_df.index = pd.to_datetime(rsi_df.index, utc=True).tz_convert('US/Eastern')"
   ]
  },
  {
   "cell_type": "code",
   "execution_count": 9,
   "metadata": {},
   "outputs": [
    {
     "data": {
      "text/html": [
       "<div>\n",
       "<style scoped>\n",
       "    .dataframe tbody tr th:only-of-type {\n",
       "        vertical-align: middle;\n",
       "    }\n",
       "\n",
       "    .dataframe tbody tr th {\n",
       "        vertical-align: top;\n",
       "    }\n",
       "\n",
       "    .dataframe thead th {\n",
       "        text-align: right;\n",
       "    }\n",
       "</style>\n",
       "<table border=\"1\" class=\"dataframe\">\n",
       "  <thead>\n",
       "    <tr style=\"text-align: right;\">\n",
       "      <th></th>\n",
       "      <th>DBC</th>\n",
       "      <th>EEM</th>\n",
       "      <th>EWJ</th>\n",
       "      <th>FXI</th>\n",
       "      <th>GDX</th>\n",
       "      <th>GLD</th>\n",
       "      <th>QQQ</th>\n",
       "      <th>SPY</th>\n",
       "      <th>TLT</th>\n",
       "      <th>USO</th>\n",
       "      <th>VTI</th>\n",
       "      <th>VXX</th>\n",
       "      <th>XHB</th>\n",
       "      <th>XLF</th>\n",
       "      <th>XRT</th>\n",
       "      <th>XSW</th>\n",
       "    </tr>\n",
       "  </thead>\n",
       "  <tbody>\n",
       "    <tr>\n",
       "      <th>2019-05-20 00:00:00-04:00</th>\n",
       "      <td>1</td>\n",
       "      <td>0</td>\n",
       "      <td>1</td>\n",
       "      <td>0</td>\n",
       "      <td>1</td>\n",
       "      <td>1</td>\n",
       "      <td>1</td>\n",
       "      <td>1</td>\n",
       "      <td>1</td>\n",
       "      <td>1</td>\n",
       "      <td>1</td>\n",
       "      <td>0</td>\n",
       "      <td>1</td>\n",
       "      <td>1</td>\n",
       "      <td>1</td>\n",
       "      <td>1</td>\n",
       "    </tr>\n",
       "    <tr>\n",
       "      <th>2019-05-21 00:00:00-04:00</th>\n",
       "      <td>1</td>\n",
       "      <td>0</td>\n",
       "      <td>1</td>\n",
       "      <td>0</td>\n",
       "      <td>1</td>\n",
       "      <td>1</td>\n",
       "      <td>1</td>\n",
       "      <td>1</td>\n",
       "      <td>1</td>\n",
       "      <td>1</td>\n",
       "      <td>1</td>\n",
       "      <td>0</td>\n",
       "      <td>1</td>\n",
       "      <td>1</td>\n",
       "      <td>1</td>\n",
       "      <td>1</td>\n",
       "    </tr>\n",
       "    <tr>\n",
       "      <th>2019-05-22 00:00:00-04:00</th>\n",
       "      <td>1</td>\n",
       "      <td>0</td>\n",
       "      <td>1</td>\n",
       "      <td>0</td>\n",
       "      <td>1</td>\n",
       "      <td>1</td>\n",
       "      <td>1</td>\n",
       "      <td>1</td>\n",
       "      <td>1</td>\n",
       "      <td>1</td>\n",
       "      <td>1</td>\n",
       "      <td>0</td>\n",
       "      <td>1</td>\n",
       "      <td>1</td>\n",
       "      <td>1</td>\n",
       "      <td>1</td>\n",
       "    </tr>\n",
       "    <tr>\n",
       "      <th>2019-05-23 00:00:00-04:00</th>\n",
       "      <td>1</td>\n",
       "      <td>0</td>\n",
       "      <td>1</td>\n",
       "      <td>0</td>\n",
       "      <td>1</td>\n",
       "      <td>1</td>\n",
       "      <td>1</td>\n",
       "      <td>1</td>\n",
       "      <td>1</td>\n",
       "      <td>1</td>\n",
       "      <td>1</td>\n",
       "      <td>0</td>\n",
       "      <td>1</td>\n",
       "      <td>1</td>\n",
       "      <td>1</td>\n",
       "      <td>1</td>\n",
       "    </tr>\n",
       "    <tr>\n",
       "      <th>2019-05-24 00:00:00-04:00</th>\n",
       "      <td>1</td>\n",
       "      <td>1</td>\n",
       "      <td>1</td>\n",
       "      <td>1</td>\n",
       "      <td>1</td>\n",
       "      <td>1</td>\n",
       "      <td>1</td>\n",
       "      <td>1</td>\n",
       "      <td>1</td>\n",
       "      <td>1</td>\n",
       "      <td>1</td>\n",
       "      <td>0</td>\n",
       "      <td>1</td>\n",
       "      <td>1</td>\n",
       "      <td>1</td>\n",
       "      <td>1</td>\n",
       "    </tr>\n",
       "    <tr>\n",
       "      <th>2019-05-28 00:00:00-04:00</th>\n",
       "      <td>1</td>\n",
       "      <td>0</td>\n",
       "      <td>1</td>\n",
       "      <td>1</td>\n",
       "      <td>1</td>\n",
       "      <td>0</td>\n",
       "      <td>1</td>\n",
       "      <td>1</td>\n",
       "      <td>0</td>\n",
       "      <td>1</td>\n",
       "      <td>1</td>\n",
       "      <td>0</td>\n",
       "      <td>1</td>\n",
       "      <td>1</td>\n",
       "      <td>1</td>\n",
       "      <td>1</td>\n",
       "    </tr>\n",
       "    <tr>\n",
       "      <th>2019-05-29 00:00:00-04:00</th>\n",
       "      <td>1</td>\n",
       "      <td>1</td>\n",
       "      <td>1</td>\n",
       "      <td>1</td>\n",
       "      <td>1</td>\n",
       "      <td>1</td>\n",
       "      <td>1</td>\n",
       "      <td>1</td>\n",
       "      <td>1</td>\n",
       "      <td>1</td>\n",
       "      <td>1</td>\n",
       "      <td>0</td>\n",
       "      <td>1</td>\n",
       "      <td>1</td>\n",
       "      <td>1</td>\n",
       "      <td>1</td>\n",
       "    </tr>\n",
       "    <tr>\n",
       "      <th>2019-05-30 00:00:00-04:00</th>\n",
       "      <td>1</td>\n",
       "      <td>1</td>\n",
       "      <td>1</td>\n",
       "      <td>1</td>\n",
       "      <td>1</td>\n",
       "      <td>1</td>\n",
       "      <td>1</td>\n",
       "      <td>1</td>\n",
       "      <td>1</td>\n",
       "      <td>0</td>\n",
       "      <td>1</td>\n",
       "      <td>0</td>\n",
       "      <td>1</td>\n",
       "      <td>1</td>\n",
       "      <td>1</td>\n",
       "      <td>1</td>\n",
       "    </tr>\n",
       "    <tr>\n",
       "      <th>2019-05-31 00:00:00-04:00</th>\n",
       "      <td>1</td>\n",
       "      <td>0</td>\n",
       "      <td>1</td>\n",
       "      <td>0</td>\n",
       "      <td>1</td>\n",
       "      <td>1</td>\n",
       "      <td>1</td>\n",
       "      <td>1</td>\n",
       "      <td>1</td>\n",
       "      <td>1</td>\n",
       "      <td>1</td>\n",
       "      <td>0</td>\n",
       "      <td>1</td>\n",
       "      <td>1</td>\n",
       "      <td>1</td>\n",
       "      <td>1</td>\n",
       "    </tr>\n",
       "    <tr>\n",
       "      <th>2019-06-03 00:00:00-04:00</th>\n",
       "      <td>1</td>\n",
       "      <td>0</td>\n",
       "      <td>1</td>\n",
       "      <td>0</td>\n",
       "      <td>1</td>\n",
       "      <td>0</td>\n",
       "      <td>1</td>\n",
       "      <td>1</td>\n",
       "      <td>0</td>\n",
       "      <td>1</td>\n",
       "      <td>1</td>\n",
       "      <td>0</td>\n",
       "      <td>1</td>\n",
       "      <td>1</td>\n",
       "      <td>1</td>\n",
       "      <td>1</td>\n",
       "    </tr>\n",
       "    <tr>\n",
       "      <th>2019-06-14 00:00:00-04:00</th>\n",
       "      <td>0</td>\n",
       "      <td>1</td>\n",
       "      <td>0</td>\n",
       "      <td>1</td>\n",
       "      <td>0</td>\n",
       "      <td>0</td>\n",
       "      <td>0</td>\n",
       "      <td>0</td>\n",
       "      <td>0</td>\n",
       "      <td>0</td>\n",
       "      <td>0</td>\n",
       "      <td>1</td>\n",
       "      <td>0</td>\n",
       "      <td>1</td>\n",
       "      <td>1</td>\n",
       "      <td>0</td>\n",
       "    </tr>\n",
       "  </tbody>\n",
       "</table>\n",
       "</div>"
      ],
      "text/plain": [
       "                           DBC  EEM  EWJ  FXI  GDX  GLD  QQQ  SPY  TLT  USO  \\\n",
       "2019-05-20 00:00:00-04:00    1    0    1    0    1    1    1    1    1    1   \n",
       "2019-05-21 00:00:00-04:00    1    0    1    0    1    1    1    1    1    1   \n",
       "2019-05-22 00:00:00-04:00    1    0    1    0    1    1    1    1    1    1   \n",
       "2019-05-23 00:00:00-04:00    1    0    1    0    1    1    1    1    1    1   \n",
       "2019-05-24 00:00:00-04:00    1    1    1    1    1    1    1    1    1    1   \n",
       "2019-05-28 00:00:00-04:00    1    0    1    1    1    0    1    1    0    1   \n",
       "2019-05-29 00:00:00-04:00    1    1    1    1    1    1    1    1    1    1   \n",
       "2019-05-30 00:00:00-04:00    1    1    1    1    1    1    1    1    1    0   \n",
       "2019-05-31 00:00:00-04:00    1    0    1    0    1    1    1    1    1    1   \n",
       "2019-06-03 00:00:00-04:00    1    0    1    0    1    0    1    1    0    1   \n",
       "2019-06-14 00:00:00-04:00    0    1    0    1    0    0    0    0    0    0   \n",
       "\n",
       "                           VTI  VXX  XHB  XLF  XRT  XSW  \n",
       "2019-05-20 00:00:00-04:00    1    0    1    1    1    1  \n",
       "2019-05-21 00:00:00-04:00    1    0    1    1    1    1  \n",
       "2019-05-22 00:00:00-04:00    1    0    1    1    1    1  \n",
       "2019-05-23 00:00:00-04:00    1    0    1    1    1    1  \n",
       "2019-05-24 00:00:00-04:00    1    0    1    1    1    1  \n",
       "2019-05-28 00:00:00-04:00    1    0    1    1    1    1  \n",
       "2019-05-29 00:00:00-04:00    1    0    1    1    1    1  \n",
       "2019-05-30 00:00:00-04:00    1    0    1    1    1    1  \n",
       "2019-05-31 00:00:00-04:00    1    0    1    1    1    1  \n",
       "2019-06-03 00:00:00-04:00    1    0    1    1    1    1  \n",
       "2019-06-14 00:00:00-04:00    0    1    0    1    1    0  "
      ]
     },
     "execution_count": 9,
     "metadata": {},
     "output_type": "execute_result"
    }
   ],
   "source": [
    "y_test_df"
   ]
  },
  {
   "cell_type": "code",
   "execution_count": 10,
   "metadata": {},
   "outputs": [],
   "source": [
    "# Join test data\n",
    "test_rsi = y_test_df.join(rsi_df, how='left', lsuffix='_l')[y_train.columns]"
   ]
  },
  {
   "cell_type": "code",
   "execution_count": 11,
   "metadata": {},
   "outputs": [
    {
     "data": {
      "text/plain": [
       "1.0698000000000913"
      ]
     },
     "execution_count": 11,
     "metadata": {},
     "output_type": "execute_result"
    }
   ],
   "source": [
    "# If we had gotten it perfect\n",
    "(test_rsi * y_test).sum().sum()"
   ]
  },
  {
   "cell_type": "code",
   "execution_count": 12,
   "metadata": {},
   "outputs": [
    {
     "data": {
      "text/plain": [
       "-0.07199999999995477"
      ]
     },
     "execution_count": 12,
     "metadata": {},
     "output_type": "execute_result"
    }
   ],
   "source": [
    "# With our predictions\n",
    "(test_rsi * y_test_df).sum().sum()"
   ]
  },
  {
   "cell_type": "code",
   "execution_count": 13,
   "metadata": {},
   "outputs": [
    {
     "data": {
      "text/plain": [
       "1.173800000000167"
      ]
     },
     "execution_count": 13,
     "metadata": {},
     "output_type": "execute_result"
    }
   ],
   "source": [
    "# Naive strategy\n",
    "test_rsi.sum().sum()"
   ]
  },
  {
   "cell_type": "markdown",
   "metadata": {},
   "source": [
    "# Overall Performance"
   ]
  },
  {
   "cell_type": "markdown",
   "metadata": {},
   "source": [
    "Our CombinedModel generated out of fold predictions for each asset as well. Let's view our overall out of fold performance combined with "
   ]
  },
  {
   "cell_type": "code",
   "execution_count": 14,
   "metadata": {},
   "outputs": [],
   "source": [
    "# Get overall strategy predicted and ideal\n",
    "train_rsi = y_train_df.join(rsi_df, how='left', lsuffix='_l')[y_train.columns]\n",
    "overall_rsi_pred = pd.concat([train_rsi, test_rsi]) * pd.concat([y_train_df, y_test_df])\n",
    "overall_rsi_ideal = pd.concat([train_rsi, test_rsi]) * pd.concat([y_train, y_test])"
   ]
  },
  {
   "cell_type": "code",
   "execution_count": 15,
   "metadata": {},
   "outputs": [
    {
     "data": {
      "text/plain": [
       "0.5750368731563422"
      ]
     },
     "execution_count": 15,
     "metadata": {},
     "output_type": "execute_result"
    }
   ],
   "source": [
    "# Overall OOF Accuracy\n",
    "(pd.concat([y_train_df, y_test_df]) == pd.concat([y_train, y_test])).sum().sum() / (pd.concat([y_train, y_test]).shape[0] * pd.concat([y_train, y_test]).shape[1])"
   ]
  },
  {
   "cell_type": "code",
   "execution_count": 16,
   "metadata": {},
   "outputs": [
    {
     "data": {
      "text/plain": [
       "64.9833000000006"
      ]
     },
     "execution_count": 16,
     "metadata": {},
     "output_type": "execute_result"
    }
   ],
   "source": [
    "# If we had gotten it perfect\n",
    "ideal = overall_rsi_ideal.sum().sum()\n",
    "ideal "
   ]
  },
  {
   "cell_type": "code",
   "execution_count": 17,
   "metadata": {},
   "outputs": [
    {
     "data": {
      "text/plain": [
       "60.20990000000015"
      ]
     },
     "execution_count": 17,
     "metadata": {},
     "output_type": "execute_result"
    }
   ],
   "source": [
    "# With our predictions\n",
    "pred = overall_rsi_pred.sum().sum()\n",
    "pred"
   ]
  },
  {
   "cell_type": "code",
   "execution_count": 18,
   "metadata": {
    "scrolled": true
   },
   "outputs": [
    {
     "data": {
      "text/plain": [
       "18.667099999999024"
      ]
     },
     "execution_count": 18,
     "metadata": {},
     "output_type": "execute_result"
    }
   ],
   "source": [
    "# Naive strategy\n",
    "naive = pd.concat([train_rsi, test_rsi]).sum().sum()\n",
    "naive"
   ]
  },
  {
   "cell_type": "code",
   "execution_count": 19,
   "metadata": {},
   "outputs": [],
   "source": [
    "tick = pd.read_csv('data/ticker_data.csv', index_col=0)\n",
    "tick.index = pd.to_datetime(tick.index, utc=True).tz_convert('US/Eastern')"
   ]
  },
  {
   "cell_type": "code",
   "execution_count": 20,
   "metadata": {},
   "outputs": [],
   "source": [
    "symbols = [\n",
    "     'DBC',\n",
    "     'EEM',\n",
    "     'EWJ',\n",
    "     'FXI',\n",
    "     'GDX',\n",
    "     'GLD',\n",
    "     'QQQ',\n",
    "     'SPY',\n",
    "     'TLT',\n",
    "     'USO',\n",
    "     'VTI',\n",
    "     'VXX',\n",
    "     'XHB',\n",
    "     'XLF',\n",
    "     'XRT',\n",
    "     'XSW'\n",
    "]\n",
    "start = tick[['close_' + s for s in symbols]].loc['2017-12-04 09:30:00-05:00'].sum()\n",
    "diff = (tick[['close_' + s for s in symbols]].iloc[-1] - start)/start\n",
    "start.index = symbols\n",
    "diff.index = symbols"
   ]
  },
  {
   "cell_type": "code",
   "execution_count": 21,
   "metadata": {},
   "outputs": [
    {
     "data": {
      "image/png": "[encoded data removed]",
      "text/plain": [
       "<Figure size 720x576 with 1 Axes>"
      ]
     },
     "metadata": {
      "needs_background": "light"
     },
     "output_type": "display_data"
    }
   ],
   "source": [
    "diff.plot(figsize=(10, 8), kind='bar')\n",
    "plt.title('Buy and Hold Return since 2017-12-04')\n",
    "plt.xlabel('ETF')\n",
    "plt.ylabel('Returns')\n",
    "plt.show()"
   ]
  },
  {
   "cell_type": "code",
   "execution_count": 67,
   "metadata": {},
   "outputs": [
    {
     "data": {
      "image/png": "[encoded data removed]",
      "text/plain": [
       "<Figure size 720x576 with 1 Axes>"
      ]
     },
     "metadata": {
      "needs_background": "light"
     },
     "output_type": "display_data"
    }
   ],
   "source": [
    "(overall_rsi_ideal.sum() / start).plot(figsize=(10, 8), kind='bar')\n",
    "plt.title('Ideal Strategy Returns since 2017-12-04')\n",
    "plt.xlabel('ETF')\n",
    "plt.ylabel('Returns')\n",
    "plt.show()"
   ]
  },
  {
   "cell_type": "code",
   "execution_count": 68,
   "metadata": {},
   "outputs": [
    {
     "data": {
      "image/png": "[encoded data removed]",
      "text/plain": [
       "<Figure size 720x576 with 1 Axes>"
      ]
     },
     "metadata": {
      "needs_background": "light"
     },
     "output_type": "display_data"
    }
   ],
   "source": [
    "(overall_rsi_pred.sum() / start).plot(figsize=(10, 8), kind='bar')\n",
    "plt.title('Predicted Strategy Returns since 2017-12-04')\n",
    "plt.xlabel('ETF')\n",
    "plt.ylabel('Returns')\n",
    "plt.show()"
   ]
  },
  {
   "cell_type": "code",
   "execution_count": 22,
   "metadata": {},
   "outputs": [
    {
     "data": {
      "image/png": "[encoded data removed]",
      "text/plain": [
       "<Figure size 720x576 with 1 Axes>"
      ]
     },
     "metadata": {
      "needs_background": "light"
     },
     "output_type": "display_data"
    }
   ],
   "source": [
    "(pd.concat([train_rsi, test_rsi]).sum() / start).plot(figsize=(10, 8), kind='bar')\n",
    "plt.title('Naive Strategy Returns since 2017-12-04')\n",
    "plt.xlabel('ETF')\n",
    "plt.ylabel('Returns')\n",
    "plt.show()"
   ]
  },
  {
   "cell_type": "code",
   "execution_count": 25,
   "metadata": {},
   "outputs": [
    {
     "data": {
      "text/plain": [
       "DBC   -0.059186\n",
       "EEM   -0.096230\n",
       "EWJ   -0.095250\n",
       "FXI   -0.126349\n",
       "GDX    0.038530\n",
       "GLD    0.042647\n",
       "QQQ    0.183618\n",
       "SPY    0.088853\n",
       "TLT    0.042180\n",
       "USO   -0.056710\n",
       "VTI    0.075933\n",
       "VXX   -0.142697\n",
       "XHB   -0.070782\n",
       "XLF   -0.028093\n",
       "XRT   -0.044068\n",
       "XSW    0.364588\n",
       "dtype: float64"
      ]
     },
     "execution_count": 25,
     "metadata": {},
     "output_type": "execute_result"
    }
   ],
   "source": [
    "diff"
   ]
  },
  {
   "cell_type": "code",
   "execution_count": 26,
   "metadata": {},
   "outputs": [
    {
     "data": {
      "text/plain": [
       "DBC     True\n",
       "EEM     True\n",
       "EWJ     True\n",
       "FXI     True\n",
       "GDX     True\n",
       "GLD     True\n",
       "QQQ     True\n",
       "SPY     True\n",
       "TLT    False\n",
       "USO     True\n",
       "VTI    False\n",
       "VXX     True\n",
       "XHB     True\n",
       "XLF     True\n",
       "XRT     True\n",
       "XSW    False\n",
       "dtype: bool"
      ]
     },
     "execution_count": 26,
     "metadata": {},
     "output_type": "execute_result"
    }
   ],
   "source": [
    "# Ideal Strategy: For what assets do we exceed returns?\n",
    "overall_rsi_ideal.sum() / start > diff"
   ]
  },
  {
   "cell_type": "code",
   "execution_count": 24,
   "metadata": {},
   "outputs": [
    {
     "data": {
      "text/plain": [
       "DBC     True\n",
       "EEM     True\n",
       "EWJ     True\n",
       "FXI    False\n",
       "GDX    False\n",
       "GLD    False\n",
       "QQQ     True\n",
       "SPY     True\n",
       "TLT    False\n",
       "USO     True\n",
       "VTI    False\n",
       "VXX     True\n",
       "XHB     True\n",
       "XLF     True\n",
       "XRT     True\n",
       "XSW    False\n",
       "dtype: bool"
      ]
     },
     "execution_count": 24,
     "metadata": {},
     "output_type": "execute_result"
    }
   ],
   "source": [
    "# Overall Strategy: For what assets do we exceed returns?\n",
    "overall_rsi_pred.sum() / start > diff"
   ]
  },
  {
   "cell_type": "markdown",
   "metadata": {},
   "source": [
    "Although we see that our ideal and predicted strategies outperform most ETFs in our universe, we need to perform statistical tests to ensure the means of these distributions are truly different. We will test weekly returns for each strategy."
   ]
  },
  {
   "cell_type": "code",
   "execution_count": 165,
   "metadata": {},
   "outputs": [],
   "source": [
    "bh_returns = tick[['close_' + s for s in symbols]].loc['2017-12-04':].between_time('09:30:00','09:30:01').resample('W').first()"
   ]
  },
  {
   "cell_type": "code",
   "execution_count": 166,
   "metadata": {},
   "outputs": [],
   "source": [
    "bh_returns = bh_returns.dropna().pct_change().dropna()\n",
    "bh_returns.columns = symbols"
   ]
  },
  {
   "cell_type": "code",
   "execution_count": 167,
   "metadata": {},
   "outputs": [
    {
     "data": {
      "image/png": "[encoded data removed]",
      "text/plain": [
       "<Figure size 1080x1080 with 16 Axes>"
      ]
     },
     "metadata": {
      "needs_background": "light"
     },
     "output_type": "display_data"
    }
   ],
   "source": [
    "# Observe buy and hold returns\n",
    "bh_returns.hist(figsize=(15, 15))\n",
    "plt.show()"
   ]
  },
  {
   "cell_type": "code",
   "execution_count": 169,
   "metadata": {},
   "outputs": [
    {
     "data": {
      "image/png": "[encoded data removed]",
      "text/plain": [
       "<Figure size 1080x1080 with 16 Axes>"
      ]
     },
     "metadata": {
      "needs_background": "light"
     },
     "output_type": "display_data"
    }
   ],
   "source": [
    "# Returns of our strategy\n",
    "strat_returns = (overall_rsi_pred / start).resample('W').first().dropna()\n",
    "strat_returns.hist(figsize=(15, 15))\n",
    "plt.show()"
   ]
  },
  {
   "cell_type": "code",
   "execution_count": 185,
   "metadata": {
    "scrolled": true
   },
   "outputs": [
    {
     "data": {
      "text/plain": [
       "DBC     True\n",
       "EEM     True\n",
       "EWJ     True\n",
       "FXI     True\n",
       "GDX    False\n",
       "GLD    False\n",
       "QQQ    False\n",
       "SPY    False\n",
       "TLT    False\n",
       "USO     True\n",
       "VTI    False\n",
       "VXX    False\n",
       "XHB     True\n",
       "XLF     True\n",
       "XRT     True\n",
       "XSW    False\n",
       "dtype: bool"
      ]
     },
     "execution_count": 185,
     "metadata": {},
     "output_type": "execute_result"
    }
   ],
   "source": [
    "strat_returns.mean() > bh_returns.mean()"
   ]
  },
  {
   "cell_type": "code",
   "execution_count": 170,
   "metadata": {},
   "outputs": [],
   "source": [
    "from scipy import stats\n",
    "\n",
    "def get_ttest(strat_returns, bh_returns=bh_returns, symbols=symbols):\n",
    "    \"\"\" Gets a two sample ttest to determine if our daily strategy returns are greater than buy and hold returns on average. \"\"\"\n",
    "    # Keep track of ETFs where our strategy has an advantage\n",
    "    adv_etfs = []\n",
    "    for symbol in symbols:\n",
    "        # Get two-sample ttest\n",
    "        results = stats.ttest_ind(strat_returns[symbol], bh_returns[symbol], equal_var=False)\n",
    "\n",
    "        # pvalue <<< 0.10 reject null hypothesis, mean of strategy returns better than \n",
    "        alpha = 0.10\n",
    "        if (results[0] > 0) & (results[1]/2 < alpha):\n",
    "            #adv_etfs.append(symbol)\n",
    "            print(f\"Reject null hypothesis, mean weekly return of strategy for {symbol} is greater than mean weekly return of buy and hold\")\n",
    "        else:\n",
    "            print(f\"Accept null hypothesis, difference in weekly return mean for {symbol} is not statistically significant\")\n",
    "    return adv_etfs\n"
   ]
  },
  {
   "cell_type": "code",
   "execution_count": 171,
   "metadata": {},
   "outputs": [
    {
     "name": "stdout",
     "output_type": "stream",
     "text": [
      "Accept null hypothesis, difference in weekly return mean for DBC is not statistically significant\n",
      "Accept null hypothesis, difference in weekly return mean for EEM is not statistically significant\n",
      "Accept null hypothesis, difference in weekly return mean for EWJ is not statistically significant\n",
      "Accept null hypothesis, difference in weekly return mean for FXI is not statistically significant\n",
      "Accept null hypothesis, difference in weekly return mean for GDX is not statistically significant\n",
      "Accept null hypothesis, difference in weekly return mean for GLD is not statistically significant\n",
      "Accept null hypothesis, difference in weekly return mean for QQQ is not statistically significant\n",
      "Accept null hypothesis, difference in weekly return mean for SPY is not statistically significant\n",
      "Accept null hypothesis, difference in weekly return mean for TLT is not statistically significant\n",
      "Accept null hypothesis, difference in weekly return mean for USO is not statistically significant\n",
      "Accept null hypothesis, difference in weekly return mean for VTI is not statistically significant\n",
      "Accept null hypothesis, difference in weekly return mean for VXX is not statistically significant\n",
      "Accept null hypothesis, difference in weekly return mean for XHB is not statistically significant\n",
      "Accept null hypothesis, difference in weekly return mean for XLF is not statistically significant\n",
      "Accept null hypothesis, difference in weekly return mean for XRT is not statistically significant\n",
      "Accept null hypothesis, difference in weekly return mean for XSW is not statistically significant\n"
     ]
    }
   ],
   "source": [
    "# Test predicted strategy\n",
    "adv_etfs = get_ttest(strat_returns)"
   ]
  },
  {
   "cell_type": "markdown",
   "metadata": {},
   "source": [
    "# Conclusion & Next Steps\n",
    "\n",
    "Our Model performs better than the naive strategy over the course of usable data going back to 2018. Additionally, on an individual ETF level, our predicted model exceeds buy and hold returns for 10 out of 16 ETFs. The ideal strategy exceeds buy and hold returns for 13/16 ETFs. However, when it came to statistical significance at the 10% confidence level, we did not outperform buy and hold on a weekly scale for any assets using our predicted strategy. This gives insight into how challenging it is to outperform the stock market using algorithmic strategy. It is very difficult to achieve an accuracy higher than 60 for the overall strategy due to the high stochasticity of financial data. Note that since we are backtesting out of fold, this gives us a good sense of how our algorithm would perform in real time. Furthermore, there are many hyperparameters that could be perfected such as: <br>\n",
    " - The volatility & volume cutoff point: Right now we are using 50th percentile for each etf.\n",
    " - The RSI lookback: Right now we are using 20 minutes for each etf.\n",
    " - ETF Universe: We handpicked these ETFs as they are well known for day trading and have high overall volume. Clearly, certain ones such as VTI do not perform very well with this strategy. If we tested more ETFs, we could likely find some where this strategy outperforms buy and hold.\n",
    " - Portfolio optimization: How much to allocate to each ETF? Right now we are evenly distributing\n",
    " - Stop loss and profit take: Right now we only exit trades according to an RSI reversal or at end of day. This is definitely suboptimal in the long run, so we would need to add stop loss and profit take for each.\n",
    " - Brokerage Fees and Slippage: This backtest assumes that each trade would've been perfectly executed without any fees. This is highly idealistic... usually trades are rarely executed exactly at ticker price (this concept is known as slippage). Furthermore, trades are usually executed at a small fee. Our trading API Alpaca allows us to execute feeless trades, however slippage would definitely be an issue.\n",
    "\n",
    "## Live trading\n",
    "\n",
    "For live trading, we would need to ensure that our model is up to date. A preliminary protocol would be to retrain weekly, perhaps at the end of the trading day on Friday. Furthermore, we would need to make sure our news and ticker data are up to date. We have written a script which will take care of updating our data automatically, and takes about 6 minutes to do so. We need to make sure to update our news data frequently since through our API, we can only access 100 news articles at a time.\n",
    "\n",
    "Once live, we would simply execute our model at 10am sharp during the trading day. This means gathering the latest news, fitting our tokenizer and predicting using our NLP network. Furthermore, we would gather ticker data from 8:00am until 10:00am, reshape it, and feed it into our ticker neural network. Once we have our first predictions, we would feed these predictions into our random forest models and achieve our final predictions. Then, we will only trade our RSI strategy on the ETFs we predict will have higher than usual volume and volatility that day."
   ]
  },
  {
   "cell_type": "markdown",
   "metadata": {},
   "source": [
    "# Thank you!"
   ]
  }
 ],
 "metadata": {
  "kernelspec": {
   "display_name": "Python 3",
   "language": "python",
   "name": "python3"
  },
  "language_info": {
   "codemirror_mode": {
    "name": "ipython",
    "version": 3
   },
   "file_extension": ".py",
   "mimetype": "text/x-python",
   "name": "python",
   "nbconvert_exporter": "python",
   "pygments_lexer": "ipython3",
   "version": "3.7.3"
  }
 },
 "nbformat": 4,
 "nbformat_minor": 2
}
