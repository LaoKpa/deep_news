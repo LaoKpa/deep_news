{
 "cells": [
  {
   "cell_type": "markdown",
   "metadata": {},
   "source": [
    "# Loading News Data\n",
    "\n",
    "Our news data is located in our news directory as individual json files. We want to aggregate these into a single dataframe. Furthermore, we are only interested in the title and text components of each json. Afterwards, we save our data into a csv for later use."
   ]
  },
  {
   "cell_type": "code",
   "execution_count": 1,
   "metadata": {},
   "outputs": [],
   "source": [
    "import os\n",
    "import json\n",
    "import pandas as pd\n",
    "import numpy as np\n",
    "import matplotlib.pyplot as plt"
   ]
  },
  {
   "cell_type": "code",
   "execution_count": 2,
   "metadata": {},
   "outputs": [],
   "source": [
    "os.chdir('news')"
   ]
  },
  {
   "cell_type": "code",
   "execution_count": 4,
   "metadata": {},
   "outputs": [
    {
     "name": "stdout",
     "output_type": "stream",
     "text": [
      "['news_0000001(1).json', 'news_0000001(2).json', 'news_0000001(3).json', 'news_0000001(4).json', 'news_0000001(5).json']\n"
     ]
    }
   ],
   "source": [
    "print(os.listdir()[:5])"
   ]
  },
  {
   "cell_type": "code",
   "execution_count": 5,
   "metadata": {},
   "outputs": [],
   "source": [
    "def get_data():\n",
    "    \"\"\" Reads important data from each news json in /news_data. \"\"\"\n",
    "    total_data = {\n",
    "        'date': [],\n",
    "        'title': [],\n",
    "        'text': [],\n",
    "    }\n",
    "    for file in os.listdir():\n",
    "        with open(file, 'r') as json_file:\n",
    "            try:\n",
    "                data = json.load(json_file)\n",
    "                total_data['date'].append(data['published'])\n",
    "                total_data['title'].append(data['title'])\n",
    "                total_data['text'].append(data['text'])\n",
    "            except:\n",
    "                pass\n",
    "    return total_data"
   ]
  },
  {
   "cell_type": "code",
   "execution_count": 6,
   "metadata": {},
   "outputs": [],
   "source": [
    "data = get_data()"
   ]
  },
  {
   "cell_type": "code",
   "execution_count": 7,
   "metadata": {},
   "outputs": [],
   "source": [
    "df = pd.DataFrame(data).set_index('date').sort_index()"
   ]
  },
  {
   "cell_type": "code",
   "execution_count": 8,
   "metadata": {},
   "outputs": [
    {
     "data": {
      "text/html": [
       "<div>\n",
       "<style scoped>\n",
       "    .dataframe tbody tr th:only-of-type {\n",
       "        vertical-align: middle;\n",
       "    }\n",
       "\n",
       "    .dataframe tbody tr th {\n",
       "        vertical-align: top;\n",
       "    }\n",
       "\n",
       "    .dataframe thead th {\n",
       "        text-align: right;\n",
       "    }\n",
       "</style>\n",
       "<table border=\"1\" class=\"dataframe\">\n",
       "  <thead>\n",
       "    <tr style=\"text-align: right;\">\n",
       "      <th></th>\n",
       "      <th>title</th>\n",
       "      <th>text</th>\n",
       "    </tr>\n",
       "    <tr>\n",
       "      <th>date</th>\n",
       "      <th></th>\n",
       "      <th></th>\n",
       "    </tr>\n",
       "  </thead>\n",
       "  <tbody>\n",
       "    <tr>\n",
       "      <th>2018-07-08T03:00:00.000+03:00</th>\n",
       "      <td>DGAP-News: Sixty North Gold's 2017 Prospecting...</td>\n",
       "      <td>\\nAll assays by Bureau Veritas FAA550 1 assay ...</td>\n",
       "    </tr>\n",
       "    <tr>\n",
       "      <th>2018-07-08T03:00:00.000+03:00</th>\n",
       "      <td>DGAP-News: CeramTec GmbH: CeramTec appoints ne...</td>\n",
       "      <td>\\nDGAP-News: CeramTec GmbH / Key word(s): Chan...</td>\n",
       "    </tr>\n",
       "    <tr>\n",
       "      <th>2018-07-08T03:00:00.000+03:00</th>\n",
       "      <td>Aladdin Blockchain Technologies Holding SE: Al...</td>\n",
       "      <td>printer\\nDGAP-Media / 07.08.2018 / 10:07 Aladd...</td>\n",
       "    </tr>\n",
       "    <tr>\n",
       "      <th>2018-07-08T03:00:00.000+03:00</th>\n",
       "      <td>DGAP-News: Luxoft Holding, Inc: Luxoft Acquire...</td>\n",
       "      <td>\\nDGAP-News: Luxoft Holding, Inc / Key word(s)...</td>\n",
       "    </tr>\n",
       "    <tr>\n",
       "      <th>2018-07-08T03:00:00.000+03:00</th>\n",
       "      <td>DGAP-News: Watts Miners Delivers the Most Powe...</td>\n",
       "      <td>\\nDGAP-News: Watts Miners / Key word(s): Misce...</td>\n",
       "    </tr>\n",
       "  </tbody>\n",
       "</table>\n",
       "</div>"
      ],
      "text/plain": [
       "                                                                           title  \\\n",
       "date                                                                               \n",
       "2018-07-08T03:00:00.000+03:00  DGAP-News: Sixty North Gold's 2017 Prospecting...   \n",
       "2018-07-08T03:00:00.000+03:00  DGAP-News: CeramTec GmbH: CeramTec appoints ne...   \n",
       "2018-07-08T03:00:00.000+03:00  Aladdin Blockchain Technologies Holding SE: Al...   \n",
       "2018-07-08T03:00:00.000+03:00  DGAP-News: Luxoft Holding, Inc: Luxoft Acquire...   \n",
       "2018-07-08T03:00:00.000+03:00  DGAP-News: Watts Miners Delivers the Most Powe...   \n",
       "\n",
       "                                                                            text  \n",
       "date                                                                              \n",
       "2018-07-08T03:00:00.000+03:00  \\nAll assays by Bureau Veritas FAA550 1 assay ...  \n",
       "2018-07-08T03:00:00.000+03:00  \\nDGAP-News: CeramTec GmbH / Key word(s): Chan...  \n",
       "2018-07-08T03:00:00.000+03:00  printer\\nDGAP-Media / 07.08.2018 / 10:07 Aladd...  \n",
       "2018-07-08T03:00:00.000+03:00  \\nDGAP-News: Luxoft Holding, Inc / Key word(s)...  \n",
       "2018-07-08T03:00:00.000+03:00  \\nDGAP-News: Watts Miners / Key word(s): Misce...  "
      ]
     },
     "execution_count": 8,
     "metadata": {},
     "output_type": "execute_result"
    }
   ],
   "source": [
    "df.head()"
   ]
  },
  {
   "cell_type": "code",
   "execution_count": 9,
   "metadata": {},
   "outputs": [
    {
     "name": "stdout",
     "output_type": "stream",
     "text": [
      "<class 'pandas.core.frame.DataFrame'>\n",
      "Index: 443738 entries, 2018-07-08T03:00:00.000+03:00 to 2019-06-01T04:14:00.000+03:00\n",
      "Data columns (total 2 columns):\n",
      "title    443738 non-null object\n",
      "text     443738 non-null object\n",
      "dtypes: object(2)\n",
      "memory usage: 10.2+ MB\n"
     ]
    }
   ],
   "source": [
    "df.info()"
   ]
  },
  {
   "cell_type": "code",
   "execution_count": 10,
   "metadata": {},
   "outputs": [
    {
     "data": {
      "text/plain": [
       "['.ipynb_checkpoints',\n",
       " 'get_news_data.ipynb',\n",
       " 'news',\n",
       " 'news_analysis.ipynb',\n",
       " 'news_data.csv',\n",
       " 'news_data.ipynb',\n",
       " 'polygon_data.ipynb']"
      ]
     },
     "execution_count": 10,
     "metadata": {},
     "output_type": "execute_result"
    }
   ],
   "source": [
    "os.chdir('..')\n",
    "os.listdir()"
   ]
  },
  {
   "cell_type": "code",
   "execution_count": 73,
   "metadata": {},
   "outputs": [],
   "source": [
    "df.to_csv('news_data.csv')"
   ]
  }
 ],
 "metadata": {
  "kernelspec": {
   "display_name": "Python 3",
   "language": "python",
   "name": "python3"
  },
  "language_info": {
   "codemirror_mode": {
    "name": "ipython",
    "version": 3
   },
   "file_extension": ".py",
   "mimetype": "text/x-python",
   "name": "python",
   "nbconvert_exporter": "python",
   "pygments_lexer": "ipython3",
   "version": "3.7.3"
  }
 },
 "nbformat": 4,
 "nbformat_minor": 2
}
